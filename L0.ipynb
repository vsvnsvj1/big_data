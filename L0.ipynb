{
 "cells": [
  {
   "cell_type": "markdown",
   "metadata": {
    "id": "82OvPKEiEqjc"
   },
   "source": [
    "# Введение в MapReduce модель на Python\n"
   ]
  },
  {
   "cell_type": "code",
   "execution_count": 1,
   "metadata": {
    "id": "JQ2cvXLjICmI",
    "ExecuteTime": {
     "end_time": "2025-03-01T10:19:19.593501Z",
     "start_time": "2025-03-01T10:19:19.581863Z"
    }
   },
   "outputs": [],
   "source": [
    "from typing import NamedTuple # requires python 3.6+\n",
    "from typing import Iterator"
   ]
  },
  {
   "cell_type": "code",
   "execution_count": 2,
   "metadata": {
    "id": "yjPHumVwEyEg",
    "ExecuteTime": {
     "end_time": "2025-03-01T10:19:20.202091Z",
     "start_time": "2025-03-01T10:19:20.189198Z"
    }
   },
   "outputs": [],
   "source": [
    "def MAP(_, row:NamedTuple):\n",
    "  if (row.gender == 'female'):\n",
    "    yield (row.age, row)\n",
    "    \n",
    "def REDUCE(age:str, rows:Iterator[NamedTuple]):\n",
    "  sum = 0\n",
    "  count = 0\n",
    "  for row in rows:\n",
    "    sum += row.social_contacts\n",
    "    count += 1\n",
    "  if (count > 0):\n",
    "    yield (age, sum/count)\n",
    "  else:\n",
    "    yield (age, 0)"
   ]
  },
  {
   "cell_type": "markdown",
   "metadata": {
    "id": "vBKMgpG_ilaZ"
   },
   "source": [
    "Модель элемента данных"
   ]
  },
  {
   "cell_type": "code",
   "execution_count": 3,
   "metadata": {
    "id": "Rv-XIjhTJPx3",
    "ExecuteTime": {
     "end_time": "2025-03-01T10:19:20.252906Z",
     "start_time": "2025-03-01T10:19:20.249143Z"
    }
   },
   "outputs": [],
   "source": [
    "class User(NamedTuple):\n",
    "  id: int\n",
    "  age: str\n",
    "  social_contacts: int\n",
    "  gender: str"
   ]
  },
  {
   "cell_type": "code",
   "execution_count": 4,
   "metadata": {
    "id": "5KV0Ze2vQgu5",
    "ExecuteTime": {
     "end_time": "2025-03-01T10:19:20.326862Z",
     "start_time": "2025-03-01T10:19:20.323919Z"
    }
   },
   "outputs": [],
   "source": [
    "input_collection = [\n",
    "    User(id=0, age=55, gender='male', social_contacts=20),\n",
    "    User(id=1, age=25, gender='female', social_contacts=240),\n",
    "    User(id=2, age=25, gender='female', social_contacts=500),\n",
    "    User(id=3, age=33, gender='female', social_contacts=800)\n",
    "]"
   ]
  },
  {
   "cell_type": "markdown",
   "metadata": {
    "id": "YFeqzyZxZIFZ"
   },
   "source": [
    "Функция RECORDREADER моделирует чтение элементов с диска или по сети."
   ]
  },
  {
   "cell_type": "code",
   "execution_count": 5,
   "metadata": {
    "id": "S5HR4E_GQoMJ",
    "ExecuteTime": {
     "end_time": "2025-03-01T10:19:20.396647Z",
     "start_time": "2025-03-01T10:19:20.379149Z"
    }
   },
   "outputs": [],
   "source": [
    "def RECORDREADER():\n",
    "  return [(u.id, u) for u in input_collection]"
   ]
  },
  {
   "cell_type": "code",
   "execution_count": 6,
   "metadata": {
    "colab": {
     "base_uri": "https://localhost:8080/",
     "height": 85
    },
    "id": "NeEoWla-ROUy",
    "outputId": "94ca6e0e-4644-4282-acbf-1759d7ba2918",
    "ExecuteTime": {
     "end_time": "2025-03-01T10:19:20.542270Z",
     "start_time": "2025-03-01T10:19:20.527802Z"
    }
   },
   "outputs": [
    {
     "data": {
      "text/plain": "[(0, User(id=0, age=55, social_contacts=20, gender='male')),\n (1, User(id=1, age=25, social_contacts=240, gender='female')),\n (2, User(id=2, age=25, social_contacts=500, gender='female')),\n (3, User(id=3, age=33, social_contacts=800, gender='female'))]"
     },
     "execution_count": 6,
     "metadata": {},
     "output_type": "execute_result"
    }
   ],
   "source": [
    "list(RECORDREADER())"
   ]
  },
  {
   "cell_type": "code",
   "execution_count": 7,
   "metadata": {
    "id": "YB8orgPSZs8M",
    "ExecuteTime": {
     "end_time": "2025-03-01T10:19:20.671720Z",
     "start_time": "2025-03-01T10:19:20.666762Z"
    }
   },
   "outputs": [],
   "source": [
    "def flatten(nested_iterable):\n",
    "  for iterable in nested_iterable:\n",
    "    for element in iterable:\n",
    "      yield element"
   ]
  },
  {
   "cell_type": "code",
   "execution_count": 8,
   "metadata": {
    "colab": {
     "base_uri": "https://localhost:8080/",
     "height": 68
    },
    "id": "74oyvDLaRmd5",
    "outputId": "c6147702-7153-47c7-a574-d5fe6abe29a8",
    "ExecuteTime": {
     "end_time": "2025-03-01T10:19:20.894211Z",
     "start_time": "2025-03-01T10:19:20.885072Z"
    }
   },
   "outputs": [
    {
     "data": {
      "text/plain": "[(25, User(id=1, age=25, social_contacts=240, gender='female')),\n (25, User(id=2, age=25, social_contacts=500, gender='female')),\n (33, User(id=3, age=33, social_contacts=800, gender='female'))]"
     },
     "execution_count": 8,
     "metadata": {},
     "output_type": "execute_result"
    }
   ],
   "source": [
    "map_output = flatten(map(lambda x: MAP(*x), RECORDREADER()))\n",
    "map_output = list(map_output) # materialize\n",
    "map_output"
   ]
  },
  {
   "cell_type": "code",
   "execution_count": 9,
   "metadata": {
    "id": "8ncYDJ3-VzDn",
    "ExecuteTime": {
     "end_time": "2025-03-01T10:19:21.062669Z",
     "start_time": "2025-03-01T10:19:21.055898Z"
    }
   },
   "outputs": [],
   "source": [
    "def groupbykey(iterable):\n",
    "  t = {}\n",
    "  for (k2, v2) in iterable:\n",
    "    t[k2] = t.get(k2, []) + [v2]\n",
    "  return t.items()"
   ]
  },
  {
   "cell_type": "code",
   "execution_count": 10,
   "metadata": {
    "colab": {
     "base_uri": "https://localhost:8080/",
     "height": 85
    },
    "id": "cKzY_6COWOA2",
    "outputId": "e6791b12-e409-47e9-bcd4-e9f8ca8611bd",
    "ExecuteTime": {
     "end_time": "2025-03-01T10:19:21.109668Z",
     "start_time": "2025-03-01T10:19:21.103832Z"
    }
   },
   "outputs": [
    {
     "data": {
      "text/plain": "[(25,\n  [User(id=1, age=25, social_contacts=240, gender='female'),\n   User(id=2, age=25, social_contacts=500, gender='female')]),\n (33, [User(id=3, age=33, social_contacts=800, gender='female')])]"
     },
     "execution_count": 10,
     "metadata": {},
     "output_type": "execute_result"
    }
   ],
   "source": [
    "shuffle_output = groupbykey(map_output)\n",
    "shuffle_output = list(shuffle_output)\n",
    "shuffle_output"
   ]
  },
  {
   "cell_type": "code",
   "execution_count": 11,
   "metadata": {
    "colab": {
     "base_uri": "https://localhost:8080/",
     "height": 34
    },
    "id": "NlA7lkDDYL0t",
    "outputId": "6b25d03f-5c92-4f3b-f500-6d70acd598b7",
    "ExecuteTime": {
     "end_time": "2025-03-01T10:19:21.285822Z",
     "start_time": "2025-03-01T10:19:21.257168Z"
    }
   },
   "outputs": [
    {
     "data": {
      "text/plain": "[(25, 370.0), (33, 800.0)]"
     },
     "execution_count": 11,
     "metadata": {},
     "output_type": "execute_result"
    }
   ],
   "source": [
    "reduce_output = flatten(map(lambda x: REDUCE(*x), shuffle_output))\n",
    "reduce_output = list(reduce_output)\n",
    "reduce_output"
   ]
  },
  {
   "cell_type": "markdown",
   "metadata": {
    "id": "xf6qhHEtd6bI"
   },
   "source": [
    "Все действия одним конвейером!"
   ]
  },
  {
   "cell_type": "code",
   "execution_count": 12,
   "metadata": {
    "colab": {
     "base_uri": "https://localhost:8080/",
     "height": 34
    },
    "id": "dZaQGYxCdpw5",
    "outputId": "3f5c6425-e5c5-49d2-b2cd-ce58a9acc33c",
    "ExecuteTime": {
     "end_time": "2025-03-01T10:19:21.551371Z",
     "start_time": "2025-03-01T10:19:21.532973Z"
    }
   },
   "outputs": [
    {
     "data": {
      "text/plain": "[(25, 370.0), (33, 800.0)]"
     },
     "execution_count": 12,
     "metadata": {},
     "output_type": "execute_result"
    }
   ],
   "source": [
    "list(flatten(map(lambda x: REDUCE(*x), groupbykey(flatten(map(lambda x: MAP(*x), RECORDREADER()))))))"
   ]
  },
  {
   "cell_type": "markdown",
   "metadata": {
    "id": "Vq3EWRIpwSiJ"
   },
   "source": [
    "# **MapReduce**\n",
    "Выделим общую для всех пользователей часть системы в отдельную функцию высшего порядка. Это наиболее простая модель MapReduce, без учёта распределённого хранения данных. \n",
    "\n",
    "Пользователь для решения своей задачи реализует RECORDREADER, MAP, REDUCE."
   ]
  },
  {
   "cell_type": "code",
   "execution_count": 13,
   "metadata": {
    "id": "V1PZeQMwwVjc",
    "ExecuteTime": {
     "end_time": "2025-03-01T10:19:21.713623Z",
     "start_time": "2025-03-01T10:19:21.708877Z"
    }
   },
   "outputs": [],
   "source": [
    "def flatten(nested_iterable):\n",
    "  for iterable in nested_iterable:\n",
    "    for element in iterable:\n",
    "      yield element\n",
    "\n",
    "def groupbykey(iterable):\n",
    "  t = {}\n",
    "  for (k2, v2) in iterable:\n",
    "    t[k2] = t.get(k2, []) + [v2]\n",
    "  return t.items()\n",
    "\n",
    "def MapReduce(RECORDREADER, MAP, REDUCE):\n",
    "  return flatten(map(lambda x: REDUCE(*x), groupbykey(flatten(map(lambda x: MAP(*x), RECORDREADER())))))"
   ]
  },
  {
   "cell_type": "markdown",
   "metadata": {
    "id": "iFIVrimep678"
   },
   "source": [
    "## Спецификация MapReduce\n",
    "\n",
    "\n",
    "\n",
    "```\n",
    "f (k1, v1) -> (k2,v2)*\n",
    "g (k2, v2*) -> (k3,v3)*\n",
    " \n",
    "mapreduce ((k1,v1)*) -> (k3,v3)*\n",
    "groupby ((k2,v2)*) -> (k2,v2*)*\n",
    "flatten (e2**) -> e2*\n",
    " \n",
    "mapreduce .map(f).flatten.groupby(k2).map(g).flatten\n",
    "```\n",
    "\n",
    "\n"
   ]
  },
  {
   "cell_type": "markdown",
   "metadata": {
    "id": "QtTFyqke3KGe"
   },
   "source": [
    "# Примеры"
   ]
  },
  {
   "cell_type": "markdown",
   "metadata": {
    "id": "BNhh5763w5Vn"
   },
   "source": [
    "## SQL "
   ]
  },
  {
   "cell_type": "code",
   "execution_count": 14,
   "metadata": {
    "colab": {
     "base_uri": "https://localhost:8080/",
     "height": 34
    },
    "id": "QkyurnvGxBGk",
    "outputId": "84761282-d2ba-435a-e8d7-a85150730e10",
    "ExecuteTime": {
     "end_time": "2025-03-01T10:19:21.864278Z",
     "start_time": "2025-03-01T10:19:21.854042Z"
    }
   },
   "outputs": [
    {
     "data": {
      "text/plain": "[(25, 370.0), (33, 800.0)]"
     },
     "execution_count": 14,
     "metadata": {},
     "output_type": "execute_result"
    }
   ],
   "source": [
    "from typing import NamedTuple # requires python 3.6+\n",
    "from typing import Iterator\n",
    "\n",
    "class User(NamedTuple):\n",
    "  id: int\n",
    "  age: str\n",
    "  social_contacts: int\n",
    "  gender: str\n",
    "    \n",
    "input_collection = [\n",
    "    User(id=0, age=55, gender='male', social_contacts=20),\n",
    "    User(id=1, age=25, gender='female', social_contacts=240),\n",
    "    User(id=2, age=25, gender='female', social_contacts=500),\n",
    "    User(id=3, age=33, gender='female', social_contacts=800)\n",
    "]\n",
    "\n",
    "def MAP(_, row:NamedTuple):\n",
    "  if (row.gender == 'female'):\n",
    "    yield (row.age, row)\n",
    "    \n",
    "def REDUCE(age:str, rows:Iterator[NamedTuple]):\n",
    "  sum = 0\n",
    "  count = 0\n",
    "  for row in rows:\n",
    "    sum += row.social_contacts\n",
    "    count += 1\n",
    "  if (count > 0):\n",
    "    yield (age, sum/count)\n",
    "  else:\n",
    "    yield (age, 0)\n",
    " \n",
    "def RECORDREADER():\n",
    "  return [(u.id, u) for u in input_collection]\n",
    "\n",
    "output = MapReduce(RECORDREADER, MAP, REDUCE)\n",
    "output = list(output)\n",
    "output"
   ]
  },
  {
   "cell_type": "markdown",
   "metadata": {
    "id": "kNKYIeerx0nY"
   },
   "source": [
    "## Matrix-Vector multiplication "
   ]
  },
  {
   "cell_type": "code",
   "execution_count": 15,
   "metadata": {
    "colab": {
     "base_uri": "https://localhost:8080/",
     "height": 102
    },
    "id": "rwcntRcCyi1V",
    "outputId": "606737ab-6b55-455c-931f-4fc45155f8a9",
    "ExecuteTime": {
     "end_time": "2025-03-01T10:19:22.164278Z",
     "start_time": "2025-03-01T10:19:22.001810Z"
    }
   },
   "outputs": [
    {
     "data": {
      "text/plain": "[(0, np.float64(1.7652964521298804)),\n (1, np.float64(1.7652964521298804)),\n (2, np.float64(1.7652964521298804)),\n (3, np.float64(1.7652964521298804)),\n (4, np.float64(1.7652964521298804))]"
     },
     "execution_count": 15,
     "metadata": {},
     "output_type": "execute_result"
    }
   ],
   "source": [
    "from typing import Iterator\n",
    "import numpy as np\n",
    "\n",
    "mat = np.ones((5,4))\n",
    "vec = np.random.rand(4) # in-memory vector in all map tasks\n",
    "\n",
    "def MAP(coordinates:(int, int), value:int):\n",
    "  i, j = coordinates\n",
    "  yield (i, value*vec[j])\n",
    " \n",
    "def REDUCE(i:int, products:Iterator[NamedTuple]):\n",
    "  sum = 0\n",
    "  for p in products:\n",
    "    sum += p\n",
    "  yield (i, sum)\n",
    "\n",
    "def RECORDREADER():\n",
    "  for i in range(mat.shape[0]):\n",
    "    for j in range(mat.shape[1]):\n",
    "      yield ((i, j), mat[i,j])\n",
    "      \n",
    "output = MapReduce(RECORDREADER, MAP, REDUCE)\n",
    "output = list(output)\n",
    "output"
   ]
  },
  {
   "cell_type": "markdown",
   "metadata": {
    "id": "ruZREYdi2o4O"
   },
   "source": [
    "## Inverted index "
   ]
  },
  {
   "cell_type": "code",
   "execution_count": 16,
   "metadata": {
    "colab": {
     "base_uri": "https://localhost:8080/",
     "height": 102
    },
    "id": "vt9H9Alf3TYv",
    "outputId": "51aeffc9-e111-4607-bd84-cfcc7b56f238",
    "ExecuteTime": {
     "end_time": "2025-03-01T10:19:22.297652Z",
     "start_time": "2025-03-01T10:19:22.291729Z"
    }
   },
   "outputs": [
    {
     "data": {
      "text/plain": "[('it', ['0', '1', '2']),\n ('what', ['0', '1']),\n ('is', ['0', '1', '2']),\n ('banana', ['2']),\n ('a', ['2'])]"
     },
     "execution_count": 16,
     "metadata": {},
     "output_type": "execute_result"
    }
   ],
   "source": [
    "from typing import Iterator\n",
    "\n",
    "d1 = \"it is what it is\"\n",
    "d2 = \"what is it\"\n",
    "d3 = \"it is a banana\"\n",
    "documents = [d1, d2, d3]\n",
    "\n",
    "def RECORDREADER():\n",
    "  for (docid, document) in enumerate(documents):\n",
    "    yield (\"{}\".format(docid), document)\n",
    "      \n",
    "def MAP(docId:str, body:str):\n",
    "  for word in set(body.split(' ')):\n",
    "    yield (word, docId)\n",
    " \n",
    "def REDUCE(word:str, docIds:Iterator[str]):\n",
    "  yield (word, sorted(docIds))\n",
    "\n",
    "output = MapReduce(RECORDREADER, MAP, REDUCE)\n",
    "output = list(output)\n",
    "output"
   ]
  },
  {
   "cell_type": "markdown",
   "metadata": {
    "id": "R7az-6DA6qr2"
   },
   "source": [
    "## WordCount"
   ]
  },
  {
   "cell_type": "code",
   "execution_count": 17,
   "metadata": {
    "colab": {
     "base_uri": "https://localhost:8080/",
     "height": 34
    },
    "id": "dN-nbtgG6uYG",
    "outputId": "24117576-7931-401d-a581-28e246b23453",
    "ExecuteTime": {
     "end_time": "2025-03-01T10:19:22.572213Z",
     "start_time": "2025-03-01T10:19:22.543467Z"
    }
   },
   "outputs": [
    {
     "data": {
      "text/plain": "[('', 3), ('it', 9), ('is', 9), ('what', 5), ('a', 1), ('banana', 1)]"
     },
     "execution_count": 17,
     "metadata": {},
     "output_type": "execute_result"
    }
   ],
   "source": [
    "from typing import Iterator\n",
    "\n",
    "d1 = \"\"\"\n",
    "it is what it is\n",
    "it is what it is\n",
    "it is what it is\"\"\"\n",
    "d2 = \"\"\"\n",
    "what is it\n",
    "what is it\"\"\"\n",
    "d3 = \"\"\"\n",
    "it is a banana\"\"\"\n",
    "documents = [d1, d2, d3]\n",
    "\n",
    "def RECORDREADER():\n",
    "  for (docid, document) in enumerate(documents):\n",
    "    for (lineid, line) in enumerate(document.split('\\n')):\n",
    "      yield (\"{}:{}\".format(docid,lineid), line)\n",
    "\n",
    "def MAP(docId:str, line:str):\n",
    "  for word in line.split(\" \"):  \n",
    "    yield (word, 1)\n",
    " \n",
    "def REDUCE(word:str, counts:Iterator[int]):\n",
    "  sum = 0\n",
    "  for c in counts:\n",
    "    sum += c\n",
    "  yield (word, sum)\n",
    "\n",
    "output = MapReduce(RECORDREADER, MAP, REDUCE)\n",
    "output = list(output)\n",
    "output"
   ]
  },
  {
   "cell_type": "markdown",
   "metadata": {
    "id": "h-jRAcYCAkkk"
   },
   "source": [
    "# MapReduce Distributed\n",
    "\n",
    "Добавляется в модель фабрика RECORDREARER-ов --- INPUTFORMAT, функция распределения промежуточных результатов по партициям PARTITIONER, и функция COMBINER для частичной аггрегации промежуточных результатов до распределения по новым партициям."
   ]
  },
  {
   "cell_type": "code",
   "execution_count": 18,
   "metadata": {
    "id": "nw-b-xJsApgW",
    "ExecuteTime": {
     "end_time": "2025-03-01T10:19:22.663738Z",
     "start_time": "2025-03-01T10:19:22.615103Z"
    }
   },
   "outputs": [],
   "source": [
    "def flatten(nested_iterable):\n",
    "  for iterable in nested_iterable:\n",
    "    for element in iterable:\n",
    "      yield element\n",
    "\n",
    "def groupbykey(iterable):\n",
    "  t = {}\n",
    "  for (k2, v2) in iterable:\n",
    "    t[k2] = t.get(k2, []) + [v2]\n",
    "  return t.items()\n",
    "      \n",
    "def groupbykey_distributed(map_partitions, PARTITIONER):\n",
    "  global reducers\n",
    "  partitions = [dict() for _ in range(reducers)]\n",
    "  for map_partition in map_partitions:\n",
    "    for (k2, v2) in map_partition:\n",
    "      p = partitions[PARTITIONER(k2)]\n",
    "      p[k2] = p.get(k2, []) + [v2]\n",
    "  return [(partition_id, sorted(partition.items(), key=lambda x: x[0])) for (partition_id, partition) in enumerate(partitions)]\n",
    " \n",
    "def PARTITIONER(obj):\n",
    "  global reducers\n",
    "  return hash(obj) % reducers\n",
    "  \n",
    "def MapReduceDistributed(INPUTFORMAT, MAP, REDUCE, PARTITIONER=PARTITIONER, COMBINER=None):\n",
    "  map_partitions = map(lambda record_reader: flatten(map(lambda k1v1: MAP(*k1v1), record_reader)), INPUTFORMAT())\n",
    "  if COMBINER != None:\n",
    "    map_partitions = map(lambda map_partition: flatten(map(lambda k2v2: COMBINER(*k2v2), groupbykey(map_partition))), map_partitions)\n",
    "  reduce_partitions = groupbykey_distributed(map_partitions, PARTITIONER) # shuffle\n",
    "  reduce_outputs = map(lambda reduce_partition: (reduce_partition[0], flatten(map(lambda reduce_input_group: REDUCE(*reduce_input_group), reduce_partition[1]))), reduce_partitions)\n",
    "  \n",
    "  print(\"{} key-value pairs were sent over a network.\".format(sum([len(vs) for (k,vs) in flatten([partition for (partition_id, partition) in reduce_partitions])])))\n",
    "  return reduce_outputs"
   ]
  },
  {
   "cell_type": "markdown",
   "metadata": {
    "id": "kxirlf3XqZxY"
   },
   "source": [
    "## Спецификация MapReduce Distributed\n",
    "\n",
    "\n",
    "```\n",
    "f (k1, v1) -> (k2,v2)*\n",
    "g (k2, v2*) -> (k3,v3)*\n",
    " \n",
    "e1 (k1, v1)\n",
    "e2 (k2, v2)\n",
    "partition1 (k2, v2)*\n",
    "partition2 (k2, v2*)*\n",
    " \n",
    "flatmap (e1->e2*, e1*) -> partition1*\n",
    "groupby (partition1*) -> partition2*\n",
    "\n",
    "mapreduce ((k1,v1)*) -> (k3,v3)*\n",
    "mapreduce .flatmap(f).groupby(k2).flatmap(g)\n",
    "```\n",
    "\n"
   ]
  },
  {
   "cell_type": "markdown",
   "metadata": {
    "id": "CWYw_CpbbY3C"
   },
   "source": [
    "## WordCount "
   ]
  },
  {
   "cell_type": "code",
   "execution_count": 19,
   "metadata": {
    "colab": {
     "base_uri": "https://localhost:8080/",
     "height": 68
    },
    "id": "uR_zfGFkMZlp",
    "outputId": "c8d46167-473d-43b9-881a-2396991b3731",
    "ExecuteTime": {
     "end_time": "2025-03-01T10:19:22.819342Z",
     "start_time": "2025-03-01T10:19:22.795756Z"
    }
   },
   "outputs": [
    {
     "name": "stdout",
     "output_type": "stream",
     "text": [
      "56 key-value pairs were sent over a network.\n"
     ]
    },
    {
     "data": {
      "text/plain": "[(0, [('', 6), ('it', 18), ('what', 10)]),\n (1, [('a', 2), ('banana', 2), ('is', 18)])]"
     },
     "execution_count": 19,
     "metadata": {},
     "output_type": "execute_result"
    }
   ],
   "source": [
    "from typing import Iterator\n",
    "import numpy as np\n",
    "\n",
    "d1 = \"\"\"\n",
    "it is what it is\n",
    "it is what it is\n",
    "it is what it is\"\"\"\n",
    "d2 = \"\"\"\n",
    "what is it\n",
    "what is it\"\"\"\n",
    "d3 = \"\"\"\n",
    "it is a banana\"\"\"\n",
    "documents = [d1, d2, d3, d1, d2, d3]\n",
    "\n",
    "maps = 3\n",
    "reducers = 2\n",
    "\n",
    "def INPUTFORMAT():\n",
    "  global maps\n",
    "  \n",
    "  def RECORDREADER(split):\n",
    "    for (docid, document) in enumerate(split):\n",
    "      for (lineid, line) in enumerate(document.split('\\n')):\n",
    "        yield (\"{}:{}\".format(docid,lineid), line)\n",
    "      \n",
    "  split_size =  int(np.ceil(len(documents)/maps))\n",
    "  for i in range(0, len(documents), split_size):\n",
    "    yield RECORDREADER(documents[i:i+split_size])\n",
    "\n",
    "def MAP(docId:str, line:str):\n",
    "  for word in line.split(\" \"):  \n",
    "    yield (word, 1)\n",
    " \n",
    "def REDUCE(word:str, counts:Iterator[int]):\n",
    "  sum = 0\n",
    "  for c in counts:\n",
    "    sum += c\n",
    "  yield (word, sum)\n",
    "  \n",
    "# try to set COMBINER=REDUCER and look at the number of values sent over the network \n",
    "partitioned_output = MapReduceDistributed(INPUTFORMAT, MAP, REDUCE, COMBINER=None) \n",
    "partitioned_output = [(partition_id, list(partition)) for (partition_id, partition) in partitioned_output]\n",
    "partitioned_output"
   ]
  },
  {
   "cell_type": "markdown",
   "metadata": {
    "id": "gCJGx8IQ87xS"
   },
   "source": [
    "## TeraSort"
   ]
  },
  {
   "cell_type": "code",
   "execution_count": 20,
   "metadata": {
    "colab": {
     "base_uri": "https://localhost:8080/",
     "height": 578
    },
    "id": "P2v8v1v_8_YR",
    "outputId": "e0987c25-9757-46cb-8e55-d5d2adfbee2b",
    "ExecuteTime": {
     "end_time": "2025-03-01T10:19:23.006255Z",
     "start_time": "2025-03-01T10:19:23.000084Z"
    }
   },
   "outputs": [
    {
     "name": "stdout",
     "output_type": "stream",
     "text": [
      "30 key-value pairs were sent over a network.\n"
     ]
    },
    {
     "data": {
      "text/plain": "[(0,\n  [(None, np.float64(0.05580414187843197)),\n   (None, np.float64(0.07746310323829542)),\n   (None, np.float64(0.1523061556840386)),\n   (None, np.float64(0.1781435257413687)),\n   (None, np.float64(0.20795357930234604)),\n   (None, np.float64(0.2526211573705568)),\n   (None, np.float64(0.41001255531541214)),\n   (None, np.float64(0.4107689861626782)),\n   (None, np.float64(0.4304497764238513)),\n   (None, np.float64(0.43373485608087636)),\n   (None, np.float64(0.4435789098092394)),\n   (None, np.float64(0.44665171592205755)),\n   (None, np.float64(0.45731269595244106))]),\n (1,\n  [(None, np.float64(0.5147641690094529)),\n   (None, np.float64(0.5218788961044795)),\n   (None, np.float64(0.5374520058256215)),\n   (None, np.float64(0.539627979266474)),\n   (None, np.float64(0.558117619542932)),\n   (None, np.float64(0.6108919840580103)),\n   (None, np.float64(0.6354045639937652)),\n   (None, np.float64(0.64571785153077)),\n   (None, np.float64(0.6784012274182424)),\n   (None, np.float64(0.7658267945594682)),\n   (None, np.float64(0.7741005707101593)),\n   (None, np.float64(0.8458830588881139)),\n   (None, np.float64(0.8481345429795751)),\n   (None, np.float64(0.939343883817049)),\n   (None, np.float64(0.9396195730558602)),\n   (None, np.float64(0.9466303408006194)),\n   (None, np.float64(0.9902074330302691))])]"
     },
     "execution_count": 20,
     "metadata": {},
     "output_type": "execute_result"
    }
   ],
   "source": [
    "import numpy as np\n",
    "\n",
    "input_values = np.random.rand(30)\n",
    "maps = 3\n",
    "reducers = 2\n",
    "min_value = 0.0\n",
    "max_value = 1.0\n",
    "\n",
    "def INPUTFORMAT():\n",
    "  global maps\n",
    "  \n",
    "  def RECORDREADER(split):\n",
    "    for value in split:\n",
    "        yield (value, None)\n",
    "      \n",
    "  split_size =  int(np.ceil(len(input_values)/maps))\n",
    "  for i in range(0, len(input_values), split_size):\n",
    "    yield RECORDREADER(input_values[i:i+split_size])\n",
    "    \n",
    "def MAP(value:int, _):\n",
    "  yield (value, None)\n",
    "  \n",
    "def PARTITIONER(key):\n",
    "  global reducers\n",
    "  global max_value\n",
    "  global min_value\n",
    "  bucket_size = (max_value-min_value)/reducers\n",
    "  bucket_id = 0\n",
    "  while((key>(bucket_id+1)*bucket_size) and ((bucket_id+1)*bucket_size<max_value)):\n",
    "    bucket_id += 1\n",
    "  return bucket_id\n",
    "\n",
    "def REDUCE(value:int, _):\n",
    "  yield (None,value)\n",
    "  \n",
    "partitioned_output = MapReduceDistributed(INPUTFORMAT, MAP, REDUCE, COMBINER=None, PARTITIONER=PARTITIONER)\n",
    "partitioned_output = [(partition_id, list(partition)) for (partition_id, partition) in partitioned_output]\n",
    "partitioned_output"
   ]
  },
  {
   "cell_type": "markdown",
   "metadata": {
    "id": "Iy65YJTH99iT"
   },
   "source": [
    "# Упражнения\n",
    "Упражнения взяты из Rajaraman A., Ullman J. D. Mining of massive datasets. – Cambridge University Press, 2011.\n",
    "\n",
    "\n",
    "Для выполнения заданий переопределите функции RECORDREADER, MAP, REDUCE. Для модели распределённой системы может потребоваться переопределение функций PARTITION и COMBINER."
   ]
  },
  {
   "cell_type": "markdown",
   "metadata": {
    "id": "cfvAeZm3S8S8"
   },
   "source": [
    "### Максимальное значение ряда\n",
    "\n",
    "Разработайте MapReduce алгоритм, который находит максимальное число входного списка чисел."
   ]
  },
  {
   "cell_type": "code",
   "outputs": [],
   "source": [
    "import numpy as np \n",
    "import random"
   ],
   "metadata": {
    "collapsed": false,
    "ExecuteTime": {
     "end_time": "2025-03-01T10:19:23.123846Z",
     "start_time": "2025-03-01T10:19:23.119302Z"
    }
   },
   "execution_count": 21
  },
  {
   "cell_type": "code",
   "outputs": [],
   "source": [
    "def flatten(nested_iterable):\n",
    "  for iterable in nested_iterable:\n",
    "    for element in iterable:\n",
    "      yield element\n",
    "\n",
    "def groupbykey(iterable):\n",
    "  t = {}\n",
    "  for (k2, v2) in iterable:\n",
    "    t[k2] = t.get(k2, []) + [v2]\n",
    "  return t.items()\n",
    "\n",
    "def MapReduce(RECORDREADER, MAP, REDUCE):\n",
    "  return flatten(map(lambda x: REDUCE(*x), groupbykey(flatten(map(lambda x: MAP(*x), RECORDREADER)))))"
   ],
   "metadata": {
    "collapsed": false,
    "ExecuteTime": {
     "end_time": "2025-03-01T10:19:23.289605Z",
     "start_time": "2025-03-01T10:19:23.265206Z"
    }
   },
   "execution_count": 22
  },
  {
   "cell_type": "code",
   "execution_count": 23,
   "metadata": {
    "id": "3GRA1JR-Tkbg",
    "ExecuteTime": {
     "end_time": "2025-03-01T10:19:23.387957Z",
     "start_time": "2025-03-01T10:19:23.378448Z"
    }
   },
   "outputs": [
    {
     "name": "stdout",
     "output_type": "stream",
     "text": [
      "List of ints: [472, 850, 593, 156, 852, 303, 556, 299, 148, 651, 971, 195, 611, 550, 228]\n",
      "Max elem of list: [971]\n"
     ]
    }
   ],
   "source": [
    "def MAP(_, value):\n",
    "    yield (None, value)\n",
    "\n",
    "def REDUCE(_, values):\n",
    "    yield max(values)\n",
    "\n",
    "def RECORDREADER(count):\n",
    "    return ((None, random.randint(0, 1000)) for _ in range(count))\n",
    "\n",
    "values = list(RECORDREADER(15))\n",
    "print(f'List of ints: {[val for _, val in values]}')\n",
    "output = list(MapReduce(values, MAP, REDUCE))\n",
    "print(f'Max elem of list: {output}')"
   ]
  },
  {
   "cell_type": "markdown",
   "metadata": {
    "id": "k86bXnqZTk-U"
   },
   "source": [
    "### Арифметическое среднее\n",
    "\n",
    "Разработайте MapReduce алгоритм, который находит арифметическое среднее.\n",
    "\n",
    "$$\\overline{X} = \\frac{1}{n}\\sum_{i=0}^{n} x_i$$\n"
   ]
  },
  {
   "cell_type": "code",
   "execution_count": 24,
   "metadata": {
    "id": "MPoY5pkfUNZf",
    "ExecuteTime": {
     "end_time": "2025-03-01T10:19:23.614062Z",
     "start_time": "2025-03-01T10:19:23.572664Z"
    }
   },
   "outputs": [
    {
     "name": "stdout",
     "output_type": "stream",
     "text": [
      "List of ints: [583, 556, 251, 500, 587, 835, 743, 733, 881, 807, 82, 326, 485, 778, 39]\n",
      "Avg of list: [545.7333333333333]\n"
     ]
    }
   ],
   "source": [
    "def MAP(key, value):\n",
    "    yield (None, value)\n",
    "\n",
    "def REDUCE(key, values):\n",
    "    yield sum(values) / len(values)\n",
    "    \n",
    "def RECORDREADER(count):\n",
    "    return ((None, random.randint(0, 1000)) for _ in range(count))\n",
    "values = list(RECORDREADER(15))\n",
    "output = list(MapReduce(values, MAP, REDUCE))\n",
    "print(f'List of ints: {[val for _, val in values]}')\n",
    "print(f'Avg of list: {output}')"
   ]
  },
  {
   "cell_type": "markdown",
   "metadata": {
    "id": "xanzszhsIlLe"
   },
   "source": [
    "### GroupByKey на основе сортировки\n",
    "\n",
    "Реализуйте groupByKey на основе сортировки, проверьте его работу на примерах"
   ]
  },
  {
   "cell_type": "code",
   "execution_count": 25,
   "metadata": {
    "id": "hQPn3USsIkEC",
    "ExecuteTime": {
     "end_time": "2025-03-01T10:19:23.729584Z",
     "start_time": "2025-03-01T10:19:23.725908Z"
    }
   },
   "outputs": [
    {
     "name": "stdout",
     "output_type": "stream",
     "text": [
      "[(3, 876), (1, 67), (1, 111), (3, 102), (2, 772), (0, 175), (0, 426), (0, 401), (3, 584), (3, 376)]\n",
      "[142.0, 55.5, 772.0, 219.0]\n",
      "dict_items([(0, [175, 426, 401]), (1, [67, 111]), (2, [772]), (3, [876, 102, 584, 376])])\n"
     ]
    }
   ],
   "source": [
    "def groupbykey_sorted(iterable):\n",
    "    sorted_items = sorted(iterable, key=lambda x: x[0])\n",
    "    grouped = {}\n",
    "    for key, value in sorted_items:\n",
    "        grouped.setdefault(key, []).append(value)\n",
    "    return grouped.items()\n",
    "\n",
    "def MAP(key, value):\n",
    "    yield (key, value)\n",
    "\n",
    "def REDUCE(key, values):\n",
    "    yield max(values) / len(values)\n",
    "    \n",
    "def RECORDREADER(count):\n",
    "    return ((random.randint(0,3), random.randint(0, 1000)) for _ in range(count))\n",
    "\n",
    "def MapReduce(RECORDREADER, MAP, REDUCE):\n",
    "    return flatten(map(lambda x: REDUCE(*x), groupbykey_sorted(flatten(map(lambda x: MAP(*x), RECORDREADER)))))\n",
    "values = list(RECORDREADER(10))\n",
    "print(values)\n",
    "print(list(MapReduce(values, MAP, REDUCE)))\n",
    "print(groupbykey_sorted(values))"
   ]
  },
  {
   "cell_type": "markdown",
   "metadata": {
    "id": "5SgEjCZyGnu6"
   },
   "source": [
    "### Drop duplicates (set construction, unique elements, distinct)\n",
    "\n",
    "Реализуйте распределённую операцию исключения дубликатов"
   ]
  },
  {
   "cell_type": "code",
   "execution_count": 26,
   "metadata": {
    "id": "okjbyApjGhMt",
    "ExecuteTime": {
     "end_time": "2025-03-01T10:19:23.777732Z",
     "start_time": "2025-03-01T10:19:23.770978Z"
    }
   },
   "outputs": [
    {
     "name": "stdout",
     "output_type": "stream",
     "text": [
      "50 key-value pairs were sent over a network.\n",
      "[(0, ['dog', 'it', 'what']), (1, ['a', 'is'])]\n"
     ]
    }
   ],
   "source": [
    "import numpy as np\n",
    "\n",
    "# Пример документов\n",
    "doc1 = \"\"\"\n",
    "it is what it is\n",
    "it is what it is\n",
    "it is what it is\"\"\"\n",
    "doc2 = \"\"\"\n",
    "what is it\n",
    "what is it\"\"\"\n",
    "doc3 = \"\"\"\n",
    "it is a dog\"\"\"\n",
    "\n",
    "documents = [doc1, doc2, doc3, doc1, doc2, doc3]\n",
    "\n",
    "num_mappers = 3\n",
    "num_reducers = 2\n",
    "\n",
    "# Группировка по ключам с распределением по партициям\n",
    "def group_by_key_distributed(map_partitions, partitioner):\n",
    "    partitions = [dict() for _ in range(num_reducers)]\n",
    "    for map_partition in map_partitions:\n",
    "        for key, value in map_partition:\n",
    "            partition = partitions[partitioner(key)]\n",
    "            partition.setdefault(key, []).append(value)\n",
    "    return [(partition_id, sorted(partition.items(), key=lambda x: x[0])) for partition_id, partition in enumerate(partitions)]\n",
    "\n",
    "# Функция партиционирования по хешу\n",
    "def partitioner(obj):\n",
    "    return hash(obj) % num_reducers\n",
    "\n",
    "# Основная функция MapReduce с распределенным вычислением\n",
    "def map_reduce_distributed(input_format, map_func, reduce_func, partitioner=partitioner, combiner=None):\n",
    "    # Шаг 1: Применение маппинга\n",
    "    map_partitions = map(lambda record_reader: flatten(map(lambda key_value: map_func(*key_value), record_reader)), input_format())\n",
    "    \n",
    "    # Если есть комбинирование, применяем его\n",
    "    if combiner is not None:\n",
    "        map_partitions = map(lambda map_partition: flatten(map(lambda key_value: combiner(*key_value), groupbykey(map_partition))), map_partitions)\n",
    "    \n",
    "    # Шаг 2: Группировка по ключам и распределение по партициям\n",
    "    reduce_partitions = group_by_key_distributed(map_partitions, partitioner)\n",
    "    \n",
    "    # Шаг 3: Применение редукции\n",
    "    reduce_outputs = map(lambda reduce_partition: (reduce_partition[0], flatten(map(lambda reduce_input_group: reduce_func(*reduce_input_group), reduce_partition[1]))), reduce_partitions)\n",
    "    \n",
    "    # Выводим количество переданных данных по сети\n",
    "    total_values_sent = sum([len(values) for _, values in flatten([partition for partition_id, partition in reduce_partitions])])\n",
    "    print(f\"{total_values_sent} key-value pairs were sent over a network.\")\n",
    "    \n",
    "    return reduce_outputs\n",
    "\n",
    "# Функция для преобразования вложенных итераторов в один\n",
    "def flatten(nested_iterable):\n",
    "    for iterable in nested_iterable:\n",
    "        for element in iterable:\n",
    "            yield element\n",
    "\n",
    "# Формат ввода\n",
    "def input_format():\n",
    "    def record_reader(split):\n",
    "        for doc_id, document in enumerate(split):\n",
    "            for line_id, line in enumerate(document.split('\\n')):\n",
    "                yield (f\"{doc_id}:{line_id}\", line)\n",
    "    \n",
    "    split_size = int(np.ceil(len(documents) / num_mappers))\n",
    "    for i in range(0, len(documents), split_size):\n",
    "        yield record_reader(documents[i:i + split_size])\n",
    "\n",
    "# Маппинг: разбиваем строку на слова и возвращаем их как ключи и значения\n",
    "def map_func(doc_id: str, line: str):\n",
    "    # Игнорируем пустые строки\n",
    "    for word in line.split(\" \"):\n",
    "        if word.strip():  # Пропускаем пустые строки или слова\n",
    "            yield (word, word)\n",
    "\n",
    "# Редукция: просто возвращаем ключ\n",
    "def reduce_func(key: str, values):\n",
    "    yield key\n",
    "\n",
    "# Запуск MapReduce\n",
    "partitioned_output = map_reduce_distributed(input_format, map_func, reduce_func, combiner=None)\n",
    "partitioned_output = [(partition_id, list(partition)) for partition_id, partition in partitioned_output]\n",
    "print(partitioned_output)\n"
   ]
  },
  {
   "cell_type": "markdown",
   "metadata": {
    "id": "e7sRGoTXuJze"
   },
   "source": [
    "#Операторы реляционной алгебры\n",
    "### Selection (Выборка)\n",
    "\n",
    "**The Map Function**: Для  каждого кортежа $t \\in R$ вычисляется истинность предиката $C$. В случае истины создаётся пара ключ-значение $(t, t)$. В паре ключ и значение одинаковы, равны $t$.\n",
    "\n",
    "**The Reduce Function:** Роль функции Reduce выполняет функция идентичности, которая возвращает то же значение, что получила на вход.\n",
    "\n"
   ]
  },
  {
   "cell_type": "code",
   "outputs": [],
   "source": [
    "from  collections import  namedtuple"
   ],
   "metadata": {
    "collapsed": false,
    "ExecuteTime": {
     "end_time": "2025-03-01T10:19:24.069669Z",
     "start_time": "2025-03-01T10:19:24.034568Z"
    }
   },
   "execution_count": 27
  },
  {
   "cell_type": "code",
   "execution_count": 28,
   "metadata": {
    "id": "4nKIKe59uIfc",
    "ExecuteTime": {
     "end_time": "2025-03-01T10:19:24.091183Z",
     "start_time": "2025-03-01T10:19:24.078221Z"
    }
   },
   "outputs": [
    {
     "name": "stdout",
     "output_type": "stream",
     "text": [
      "[Person(id=2, gender='female'), Person(id=3, gender='female')]\n"
     ]
    }
   ],
   "source": [
    "Person = namedtuple('Person', ['id', 'gender'])\n",
    "\n",
    "# Теперь используем namedtuple в relation\n",
    "relation = [\n",
    "    Person(1, \"male\"),\n",
    "    Person(2, \"female\"),\n",
    "    Person(3, \"female\")\n",
    "]\n",
    "\n",
    "\n",
    "def RECORDREADER_select():\n",
    "    for rec in relation:\n",
    "        yield (None, rec)\n",
    "\n",
    "def MAP_select(_, rec):\n",
    "    if rec.gender == \"female\":\n",
    "        # Используем строковое представление как ключ\n",
    "        yield (rec, rec)\n",
    "\n",
    "def REDUCE_select(key, values):\n",
    "    # Выдаем один элемент из группы (они одинаковы)\n",
    "    yield values[0]\n",
    "    \n",
    "def MapReduce(RECORDREADER, MAP, REDUCE):\n",
    "    return flatten(map(lambda x: REDUCE(*x), groupbykey(flatten(map(lambda x: MAP(*x), RECORDREADER())))))\n",
    "\n",
    "    \n",
    "result_select = list(MapReduce(RECORDREADER_select, MAP_select, REDUCE_select))\n",
    "print(result_select)"
   ]
  },
  {
   "cell_type": "markdown",
   "metadata": {
    "id": "w27Ca-_Ku85V"
   },
   "source": [
    "### Projection (Проекция)\n",
    "\n",
    "Проекция на множество атрибутов $S$.\n",
    "\n",
    "**The Map Function:** Для каждого кортежа $t \\in R$ создайте кортеж $t′$, исключая  из $t$ те значения, атрибуты которых не принадлежат  $S$. Верните пару $(t′, t′)$.\n",
    "\n",
    "**The Reduce Function:** Для каждого ключа $t′$, созданного любой Map задачей, вы получаете одну или несколько пар $(t′, t′)$. Reduce функция преобразует $(t′, [t′, t′, . . . , t′])$ в $(t′, t′)$, так, что для ключа $t′$ возвращается одна пара  $(t′, t′)$."
   ]
  },
  {
   "cell_type": "code",
   "execution_count": 29,
   "metadata": {
    "id": "BEvuY4GqvhS6",
    "ExecuteTime": {
     "end_time": "2025-03-01T10:19:24.251752Z",
     "start_time": "2025-03-01T10:19:24.242778Z"
    }
   },
   "outputs": [
    {
     "name": "stdout",
     "output_type": "stream",
     "text": [
      "[{'id': 0, 'age': 55}, {'id': 1, 'age': 25}, {'id': 2, 'age': 25}, {'id': 2, 'age': 35}, {'id': 3, 'age': 33}]\n"
     ]
    }
   ],
   "source": [
    "input_collection = [\n",
    "    User(id=0, age=55, gender='male', social_contacts=20),\n",
    "    User(id=1, age=25, gender='female', social_contacts=240),\n",
    "    User(id=2, age=25, gender='female', social_contacts=500),\n",
    "    User(id=2, age=35, gender='male', social_contacts=490),\n",
    "    User(id=3, age=33, gender='female', social_contacts=800)\n",
    "]\n",
    "\n",
    "def RECORDREADER():\n",
    "  return [(u.id, u) for u in input_collection]\n",
    "\n",
    "# Проекция на атрибуты 'id' и 'age'\n",
    "attributes = ['id', 'age']\n",
    "\n",
    "def MAP_projection(_, rec):\n",
    "    # Проекция на нужные атрибуты\n",
    "    proj = {attr: getattr(rec, attr) for attr in attributes if hasattr(rec, attr)}\n",
    "    yield (str(proj), proj)\n",
    "\n",
    "# Функция REDUCE: для каждого ключа (t′) возвращаем один результат (t′, t′)\n",
    "def REDUCE_projection(key, values):\n",
    "    yield values[0] \n",
    "\n",
    "\n",
    "result_projection = list(MapReduce(RECORDREADER, MAP_projection, REDUCE_projection))\n",
    "print(result_projection)"
   ]
  },
  {
   "cell_type": "markdown",
   "metadata": {
    "id": "7gau6lKXvn2R"
   },
   "source": [
    "### Union (Объединение)\n",
    "\n",
    "**The Map Function:** Превратите каждый входной кортеж $t$ в пару ключ-значение $(t, t)$.\n",
    "\n",
    "**The Reduce Function:** С каждым ключом $t$ будет ассоциировано одно или два значений. В обоих случаях создайте $(t, t)$ в качестве выходного значения."
   ]
  },
  {
   "cell_type": "code",
   "execution_count": 30,
   "metadata": {
    "id": "Sns7a5agv3nw",
    "ExecuteTime": {
     "end_time": "2025-03-01T10:19:24.417969Z",
     "start_time": "2025-03-01T10:19:24.413632Z"
    }
   },
   "outputs": [
    {
     "name": "stdout",
     "output_type": "stream",
     "text": [
      "(User(id=0, age=55, social_contacts=20, gender='male'), User(id=0, age=55, social_contacts=20, gender='male'))\n",
      "(User(id=1, age=25, social_contacts=240, gender='female'), User(id=1, age=25, social_contacts=240, gender='female'))\n",
      "(User(id=2, age=25, social_contacts=500, gender='female'), User(id=2, age=25, social_contacts=500, gender='female'))\n",
      "(User(id=3, age=35, social_contacts=490, gender='male'), User(id=3, age=35, social_contacts=490, gender='male'))\n",
      "(User(id=4, age=33, social_contacts=800, gender='female'), User(id=4, age=33, social_contacts=800, gender='female'))\n"
     ]
    }
   ],
   "source": [
    "from collections import namedtuple\n",
    "\n",
    "\n",
    "input_collection_1 = [\n",
    "    User(id=0, age=55, gender='male', social_contacts=20),\n",
    "    User(id=1, age=25, gender='female', social_contacts=240),\n",
    "    User(id=2, age=25, gender='female', social_contacts=500)\n",
    "]\n",
    "\n",
    "input_collection_2 = [\n",
    "    User(id=3, age=35, gender='male', social_contacts=490),\n",
    "    User(id=4, age=33, gender='female', social_contacts=800)\n",
    "]\n",
    "\n",
    "\n",
    "# Функция RECORDREADER: генерирует пары (t, t) для каждого элемента\n",
    "def RECORDREADER_union():\n",
    "    for user in input_collection_1 + input_collection_2:\n",
    "        yield (user, user)\n",
    "\n",
    "# Функция MAP: для каждого кортежа t генерируем пару (t, t)\n",
    "def MAP_union(_, t):\n",
    "    yield (t, t)\n",
    "\n",
    "# Функция REDUCE: для каждого ключа t возвращаем пару (t, t)\n",
    "def REDUCE_union(key, values):\n",
    "    yield (key, key)\n",
    "\n",
    "\n",
    "result_union = list(MapReduce(RECORDREADER_union, MAP_union, REDUCE_union))\n",
    "for item in result_union:\n",
    "    print(item)\n"
   ]
  },
  {
   "cell_type": "markdown",
   "metadata": {
    "id": "dQ8TuEbjv4J8"
   },
   "source": [
    "### Intersection (Пересечение)\n",
    "\n",
    "**The Map Function:** Превратите каждый кортеж $t$ в пары ключ-значение $(t, t)$.\n",
    "\n",
    "**The Reduce Function:** Если для ключа $t$ есть список из двух элементов $[t, t]$ $-$ создайте пару $(t, t)$. Иначе, ничего не создавайте."
   ]
  },
  {
   "cell_type": "code",
   "execution_count": 31,
   "metadata": {
    "id": "XKlBZh4IwERR",
    "ExecuteTime": {
     "end_time": "2025-03-01T10:19:24.538998Z",
     "start_time": "2025-03-01T10:19:24.531975Z"
    }
   },
   "outputs": [
    {
     "name": "stdout",
     "output_type": "stream",
     "text": [
      "[]\n"
     ]
    }
   ],
   "source": [
    "def RECORDREADER_intersection():\n",
    "    for user in input_collection_1 + input_collection_2:\n",
    "        yield (user.id, user)\n",
    "\n",
    "def MAP_intersection(_, t):\n",
    "    yield (t, t)\n",
    "\n",
    "def REDUCE_intersection(key, values):\n",
    "    if len(values) == 2:  # Если ключ встречается в обоих наборах данных\n",
    "        yield (key, key)\n",
    "\n",
    "result_intersection = list(MapReduce(RECORDREADER_intersection, MAP_intersection, REDUCE_intersection))\n",
    "print(result_intersection)\n"
   ]
  },
  {
   "cell_type": "markdown",
   "metadata": {
    "id": "AVOpqoY3wE5k"
   },
   "source": [
    "### Difference (Разница)\n",
    "\n",
    "**The Map Function:** Для кортежа $t \\in R$, создайте пару $(t, R)$, и для кортежа $t \\in S$, создайте пару $(t, S)$. Задумка заключается в том, чтобы значение пары было именем отношения $R$ or $S$, которому принадлежит кортеж (а лучше, единичный бит, по которому можно два отношения различить $R$ or $S$), а не весь набор атрибутов отношения.\n",
    "\n",
    "**The Reduce Function:** Для каждого ключа $t$, если соответствующее значение является списком $[R]$, создайте пару $(t, t)$. В иных случаях не предпринимайте действий."
   ]
  },
  {
   "cell_type": "code",
   "execution_count": 32,
   "metadata": {
    "id": "QE_AC09lwZIZ",
    "ExecuteTime": {
     "end_time": "2025-03-01T10:19:24.791494Z",
     "start_time": "2025-03-01T10:19:24.784750Z"
    }
   },
   "outputs": [
    {
     "name": "stdout",
     "output_type": "stream",
     "text": [
      "[User(id=0, age=55, social_contacts=20, gender='male'), User(id=1, age=25, social_contacts=240, gender='female'), User(id=2, age=25, social_contacts=500, gender='female')]\n"
     ]
    }
   ],
   "source": [
    "\n",
    "def RECORDREADER_difference():\n",
    "    return [(0, a) for a in input_collection_1] + [(1, b) for b in input_collection_2]\n",
    "\n",
    "\n",
    "def MAP_difference(id, user):\n",
    "    yield (user, id)\n",
    "\n",
    "def REDUCE_difference(key, values):\n",
    "    if values == [0]:\n",
    "        yield (key)\n",
    "\n",
    "def flatten(iterable):\n",
    "    for item in iterable:\n",
    "        if hasattr(item, '__iter__') and not isinstance(item, (str, bytes)):\n",
    "            for sub in item:\n",
    "                yield sub\n",
    "        else:\n",
    "            yield item\n",
    "\n",
    "result_difference = list(MapReduce(RECORDREADER_difference, MAP_difference, REDUCE_difference))\n",
    "print(result_difference)\n"
   ]
  },
  {
   "cell_type": "markdown",
   "metadata": {
    "id": "j8I58V2VwhSm"
   },
   "source": [
    "### Natural Join\n",
    "\n",
    "**The Map Function:** Для каждого кортежа $(a, b)$ отношения $R$, создайте пару $(b,(R, a))$. Для каждого кортежа $(b, c)$ отношения $S$, создайте пару $(b,(S, c))$.\n",
    "\n",
    "**The Reduce Function:** Каждый ключ $b$ будет асоциирован со списком пар, которые принимают форму либо $(R, a)$, либо $(S, c)$. Создайте все пары, одни, состоящие из  первого компонента $R$, а другие, из первого компонента $S$, то есть $(R, a)$ и $(S, c)$. На выходе вы получаете последовательность пар ключ-значение из списков ключей и значений. Ключ не нужен. Каждое значение, это тройка $(a, b, c)$ такая, что $(R, a)$ и $(S, c)$ это принадлежат входному списку значений."
   ]
  },
  {
   "cell_type": "code",
   "outputs": [],
   "source": [
    "class User(NamedTuple):\n",
    "    id: int\n",
    "    age: str\n",
    "    gender: str\n",
    "    social_contacts: int\n",
    "    location_id: int\n",
    "\n",
    "class Location(NamedTuple):\n",
    "    id: int \n",
    "    city: str\n",
    "    country: str"
   ],
   "metadata": {
    "collapsed": false,
    "ExecuteTime": {
     "end_time": "2025-03-01T10:19:24.859585Z",
     "start_time": "2025-03-01T10:19:24.839126Z"
    }
   },
   "execution_count": 33
  },
  {
   "cell_type": "code",
   "execution_count": 34,
   "metadata": {
    "id": "yHiuuTctw86I",
    "ExecuteTime": {
     "end_time": "2025-03-01T10:19:24.957731Z",
     "start_time": "2025-03-01T10:19:24.952564Z"
    }
   },
   "outputs": [],
   "source": [
    "input_collection = [\n",
    "    User(id=0, age=55, gender='male', social_contacts=20,location_id=101),\n",
    "    User(id=1, age=25, gender='female', social_contacts=240,location_id=102),\n",
    "    User(id=2, age=25, gender='female', social_contacts=500,location_id=103),\n",
    "    User(id=2, age=35, gender='male', social_contacts=490,location_id=102),\n",
    "    User(id=3, age=33, gender='female', social_contacts=800,location_id=101)\n",
    "]\n",
    "\n",
    "locations = [\n",
    "    Location(id=101, city=\"New York\", country=\"USA\"),\n",
    "    Location(id=102, city=\"London\", country=\"UK\"),\n",
    "    Location(id=103, city=\"Tokyo\", country=\"Japan\")\n",
    "]\n"
   ]
  },
  {
   "cell_type": "code",
   "outputs": [
    {
     "name": "stdout",
     "output_type": "stream",
     "text": [
      "[(User(id=0, age=55, gender='male', social_contacts=20, location_id=101), 101, Location(id=101, city='New York', country='USA')), (User(id=3, age=33, gender='female', social_contacts=800, location_id=101), 101, Location(id=101, city='New York', country='USA')), (User(id=1, age=25, gender='female', social_contacts=240, location_id=102), 102, Location(id=102, city='London', country='UK')), (User(id=2, age=35, gender='male', social_contacts=490, location_id=102), 102, Location(id=102, city='London', country='UK')), (User(id=2, age=25, gender='female', social_contacts=500, location_id=103), 103, Location(id=103, city='Tokyo', country='Japan'))]\n"
     ]
    }
   ],
   "source": [
    "def RECORDREADER_join():\n",
    "    return [(user.location_id, user) for user in input_collection] + [(location.id, location) for location in locations]\n",
    "\n",
    "def MAP_join(loc_id, row):\n",
    "    yield (loc_id, row)\n",
    "\n",
    "def REDUCE_join(loc_id, rows):\n",
    "    users = []\n",
    "    loc = None\n",
    "\n",
    "    for row in rows:\n",
    "        if type(row) is User:\n",
    "            users += [row]\n",
    "        else:\n",
    "            loc = row\n",
    "\n",
    "    for row in rows:\n",
    "        if type(row) is User:\n",
    "            yield (row, row.location_id, loc)\n",
    "            \n",
    "result_join = list(MapReduce(RECORDREADER_join, MAP_join, REDUCE_join))\n",
    "print(result_join)"
   ],
   "metadata": {
    "collapsed": false,
    "ExecuteTime": {
     "end_time": "2025-03-01T10:19:25.019255Z",
     "start_time": "2025-03-01T10:19:25.015258Z"
    }
   },
   "execution_count": 35
  },
  {
   "cell_type": "markdown",
   "metadata": {
    "id": "kYdlr0YUxE27"
   },
   "source": [
    "### Grouping and Aggregation (Группировка и аггрегация)\n",
    "\n",
    "**The Map Function:** Для каждого кортежа $(a, b, c$) создайте пару $(a, b)$.\n",
    "\n",
    "**The Reduce Function:** Ключ представляет ту или иную группу. Примение аггрегирующую операцию $\\theta$ к списку значений $[b1, b2, . . . , bn]$ ассоциированных с ключом $a$. Возвращайте в выходной поток $(a, x)$, где $x$ результат применения  $\\theta$ к списку. Например, если $\\theta$ это $SUM$, тогда $x = b1 + b2 + · · · + bn$, а если $\\theta$ is $MAX$, тогда $x$ это максимальное из значений $b1, b2, . . . , bn$."
   ]
  },
  {
   "cell_type": "code",
   "execution_count": 36,
   "metadata": {
    "id": "MLPckfEGxico",
    "ExecuteTime": {
     "end_time": "2025-03-01T10:19:25.123365Z",
     "start_time": "2025-03-01T10:19:25.117852Z"
    }
   },
   "outputs": [
    {
     "name": "stdout",
     "output_type": "stream",
     "text": [
      "[(User(id=0, age=55, gender='male', social_contacts=20, location_id=101), 101, Location(id=101, city='New York', country='USA')), (User(id=3, age=33, gender='female', social_contacts=800, location_id=101), 101, Location(id=101, city='New York', country='USA')), (User(id=1, age=25, gender='female', social_contacts=240, location_id=102), 102, Location(id=102, city='London', country='UK')), (User(id=2, age=35, gender='male', social_contacts=490, location_id=102), 102, Location(id=102, city='London', country='UK')), (User(id=2, age=25, gender='female', social_contacts=500, location_id=103), 103, Location(id=103, city='Tokyo', country='Japan'))]\n"
     ]
    }
   ],
   "source": [
    "def RECORDREADER_group():\n",
    "     return [(location_id, user, location) for user, location_id, location in result_join] \n",
    "\n",
    "def MAP_group(loc_id, user, loc):\n",
    "    yield (loc_id, user)\n",
    "\n",
    "def REDUCE_group(loc_id, rows):\n",
    "    yield f\"location id={loc_id} = {len(rows)} users\"\n",
    "\n",
    "result_group = MapReduce(RECORDREADER_group, MAP_group, REDUCE_group)\n",
    "print(list(result_join))"
   ]
  },
  {
   "cell_type": "markdown",
   "metadata": {
    "id": "03IffTEOJgOb"
   },
   "source": [
    "# "
   ]
  },
  {
   "cell_type": "markdown",
   "metadata": {
    "id": "IIrRgvG4RIS4"
   },
   "source": [
    "### Matrix-Vector multiplication\n",
    "\n",
    "Случай, когда вектор не помещается в памяти Map задачи\n"
   ]
  },
  {
   "cell_type": "code",
   "execution_count": 37,
   "metadata": {
    "id": "KQhDbiL3zS9r",
    "ExecuteTime": {
     "end_time": "2025-03-01T10:19:25.185367Z",
     "start_time": "2025-03-01T10:19:25.177089Z"
    }
   },
   "outputs": [
    {
     "data": {
      "text/plain": "[(4, 36)]"
     },
     "execution_count": 37,
     "metadata": {},
     "output_type": "execute_result"
    }
   ],
   "source": [
    "input_matrix = [\n",
    "    (1, 2, 3), (4, 5, 6), (7, 8, 9),\n",
    "    (10, 11, 12), (13, 14, 15), (16, 17, 18),\n",
    "    (19, 20, 21), (22, 23, 24), (25, 26, 27),\n",
    "]\n",
    "\n",
    "input_vector = [\n",
    "    (1, 2), (3, 4), (5, 6)\n",
    "]\n",
    "\n",
    "# Функция для чтения матрицы\n",
    "def RECORDREADER_matvec():\n",
    "    return [(None, m) for m in input_matrix]\n",
    "\n",
    "# MAP функция для перемножения матрицы и вектора\n",
    "def MAP_matvec(_, matrix_row):\n",
    "    row, col, value = matrix_row\n",
    "    for vector_col, vector_value in input_vector:\n",
    "        if vector_col == col:\n",
    "            yield (row, value * vector_value)\n",
    "\n",
    "# REDUCE функция для суммирования значений\n",
    "def REDUCE_matvec(row, values):\n",
    "    yield (row, sum(values))\n",
    "\n",
    "\n",
    "output = list(MapReduce(RECORDREADER_matvec, MAP_matvec, REDUCE_matvec))\n",
    "\n",
    "output\n"
   ]
  },
  {
   "cell_type": "markdown",
   "metadata": {
    "id": "GIo2t7nNxvA9"
   },
   "source": [
    "## Matrix multiplication (Перемножение матриц)\n",
    "\n",
    "Если у нас есть матрица $M$ с элементами $m_{ij}$ в строке $i$ и столбце $j$, и матрица $N$ с элементами $n_{jk}$ в строке $j$ и столбце $k$, тогда их произведение $P = MN$ есть матрица $P$ с элементами $p_{ik}$ в строке $i$ и столбце $k$, где\n",
    "\n",
    "$$p_{ik} =\\sum_{j} m_{ij}n_{jk}$$\n",
    "\n",
    "Необходимым требованием является одинаковое количество столбцов в $M$ и строк в $N$, чтобы операция суммирования по  $j$ была осмысленной. Мы можем размышлять о матрице, как об отношении с тремя атрибутами: номер строки, номер столбца, само значение. Таким образом матрица $M$ предстваляется как отношение $ M(I, J, V )$, с кортежами $(i, j, m_{ij})$, и, аналогично, матрица $N$ представляется как отношение $N(J, K, W)$, с кортежами $(j, k, n_{jk})$. Так как большие матрицы как правило разреженные (большинство значений равно 0), и так как мы можем нулевыми значениями пренебречь (не хранить), такое реляционное представление достаточно эффективно для больших матриц. Однако, возможно, что координаты $i$, $j$, и $k$ неявно закодированы в смещение позиции элемента относительно начала файла, вместо явного хранения. Тогда, функция Map (или Reader) должна быть разработана таким образом, чтобы реконструировать компоненты $I$, $J$, и $K$ кортежей из смещения.\n",
    "\n",
    "Произведение $MN$ это фактически join, за которым следуют группировка по ключу и аггрегация. Таким образом join отношений $M(I, J, V )$ и $N(J, K, W)$, имеющих общим только атрибут $J$, создаст кортежи $(i, j, k, v, w)$ из каждого кортежа $(i, j, v) \\in M$ и кортежа $(j, k, w) \\in N$. Такой 5 компонентный кортеж представляет пару элементов матрицы $(m_{ij} , n_{jk})$. Что нам хотелось бы получить на самом деле, это произведение этих элементов, то есть, 4 компонентный кортеж$(i, j, k, v \\times w)$, так как он представляет произведение $m_{ij}n_{jk}$. Мы представляем отношение как результат одной MapReduce операции, в которой мы можем произвести группировку и аггрегацию, с $I$ и $K$  атрибутами, по которым идёт группировка, и суммой  $V \\times W$. \n",
    "\n",
    "\n",
    "\n"
   ]
  },
  {
   "cell_type": "code",
   "execution_count": 38,
   "metadata": {
    "id": "1MBkGaLAYVCt",
    "ExecuteTime": {
     "end_time": "2025-03-01T10:19:25.362743Z",
     "start_time": "2025-03-01T10:19:25.351866Z"
    }
   },
   "outputs": [],
   "source": [
    "# MapReduce model\n",
    "def flatten(nested_iterable):\n",
    "  for iterable in nested_iterable:\n",
    "    for element in iterable:\n",
    "      yield element\n",
    "\n",
    "def groupbykey(iterable):\n",
    "  t = {}\n",
    "  for (k2, v2) in iterable:\n",
    "    t[k2] = t.get(k2, []) + [v2]\n",
    "  return t.items()\n",
    "\n",
    "def MapReduce(RECORDREADER, MAP, REDUCE):\n",
    "  return flatten(map(lambda x: REDUCE(*x), groupbykey(flatten(map(lambda x: MAP(*x), RECORDREADER())))))"
   ]
  },
  {
   "cell_type": "markdown",
   "metadata": {
    "id": "sMspsOT0ZB35"
   },
   "source": [
    "Реализуйте перемножение матриц с использованием модельного кода MapReduce для одной машины в случае, когда одна матрица хранится в памяти, а другая генерируется RECORDREADER-ом."
   ]
  },
  {
   "cell_type": "code",
   "execution_count": 39,
   "metadata": {
    "id": "psP1XekbsEjS",
    "ExecuteTime": {
     "end_time": "2025-03-01T10:19:25.435007Z",
     "start_time": "2025-03-01T10:19:25.424252Z"
    }
   },
   "outputs": [],
   "source": [
    "import numpy as np\n",
    "I = 2\n",
    "J = 3\n",
    "K = 4*10\n",
    "small_mat = np.random.rand(I,J) # it is legal to access this from RECORDREADER, MAP, REDUCE\n",
    "big_mat = np.random.rand(J,K)\n",
    "\n",
    "def RECORDREADER():\n",
    "    for j in range(big_mat.shape[0]):\n",
    "        for k in range(big_mat.shape[1]):\n",
    "            yield ((j,k), big_mat[j,k])\n",
    "      \n",
    "def MAP(k1, v1):\n",
    "    (j, k) = k1\n",
    "    w = v1\n",
    "    for i in range(I):\n",
    "      yield (i, k), (small_mat[i,j], w)\n",
    "  \n",
    "def REDUCE(key, values):\n",
    "    (i, k) = key\n",
    "    mat_mul = 0\n",
    "    for small_val, big_val in values:\n",
    "      mat_mul += small_val * big_val\n",
    "    yield ((i, k), mat_mul)"
   ]
  },
  {
   "cell_type": "markdown",
   "metadata": {
    "id": "rnt306LHhHrm"
   },
   "source": [
    "Проверьте своё решение"
   ]
  },
  {
   "cell_type": "code",
   "execution_count": 40,
   "metadata": {
    "colab": {
     "base_uri": "https://localhost:8080/",
     "height": 34
    },
    "id": "Ewy_ZNYqW5a2",
    "outputId": "9ce264f2-9412-44e2-9b0a-cc780573ab3a",
    "ExecuteTime": {
     "end_time": "2025-03-01T10:19:25.590162Z",
     "start_time": "2025-03-01T10:19:25.581256Z"
    }
   },
   "outputs": [
    {
     "data": {
      "text/plain": "True"
     },
     "execution_count": 40,
     "metadata": {},
     "output_type": "execute_result"
    }
   ],
   "source": [
    "# CHECK THE SOLUTION\n",
    "reference_solution = np.matmul(small_mat, big_mat) \n",
    "solution = MapReduce(RECORDREADER, MAP, REDUCE)\n",
    "\n",
    "def asmatrix(reduce_output):\n",
    "  reduce_output = list(reduce_output)\n",
    "  I = max(i for ((i,k), vw) in reduce_output)+1\n",
    "  K = max(k for ((i,k), vw) in reduce_output)+1\n",
    "  mat = np.empty(shape=(I,K))\n",
    "  for ((i,k), vw) in reduce_output:\n",
    "    mat[i,k] = vw\n",
    "  return mat\n",
    "\n",
    "np.allclose(reference_solution, asmatrix(solution)) # should return true"
   ]
  },
  {
   "cell_type": "code",
   "execution_count": 41,
   "metadata": {
    "colab": {
     "base_uri": "https://localhost:8080/",
     "height": 34
    },
    "id": "TK7v4CEcfxqf",
    "outputId": "2c865d0a-4065-4e6b-c83f-5508ed5eb4fa",
    "ExecuteTime": {
     "end_time": "2025-03-01T10:19:25.778311Z",
     "start_time": "2025-03-01T10:19:25.774324Z"
    }
   },
   "outputs": [
    {
     "data": {
      "text/plain": "1"
     },
     "execution_count": 41,
     "metadata": {},
     "output_type": "execute_result"
    }
   ],
   "source": [
    "reduce_output = list(MapReduce(RECORDREADER, MAP, REDUCE))\n",
    "max(i for ((i,k), vw) in reduce_output)"
   ]
  },
  {
   "cell_type": "markdown",
   "metadata": {
    "id": "i4yyg3kOZqJJ"
   },
   "source": [
    "Реализуйте перемножение матриц  с использованием модельного кода MapReduce для одной машины в случае, когда обе матрицы генерируются в RECORDREADER. Например, сначала одна, а потом другая."
   ]
  },
  {
   "cell_type": "code",
   "outputs": [],
   "source": [
    "def PARTITIONER(key):\n",
    "    global reducers\n",
    "    return hash(key) % reducers\n"
   ],
   "metadata": {
    "collapsed": false,
    "ExecuteTime": {
     "end_time": "2025-03-01T10:20:49.803011Z",
     "start_time": "2025-03-01T10:20:49.784248Z"
    }
   },
   "execution_count": 45
  },
  {
   "cell_type": "code",
   "execution_count": 46,
   "metadata": {
    "id": "3B7rIAJCaHZq",
    "ExecuteTime": {
     "end_time": "2025-03-01T10:20:50.196816Z",
     "start_time": "2025-03-01T10:20:50.184111Z"
    }
   },
   "outputs": [
    {
     "name": "stdout",
     "output_type": "stream",
     "text": [
      "Матрица, полученная через MapReduce:\n",
      " [[0.69344898 1.15714029 0.78895281 1.33639469 1.14510243 1.04031095\n",
      "  0.82391379 1.23717313 0.64962312 0.41013825 0.95864276 0.32197672\n",
      "  0.76316166 0.94126594 1.12459894 0.98508058 0.62772749 0.5341474\n",
      "  1.39790172 0.71126176 0.66319503 1.13600959 1.31181978 1.14994801\n",
      "  0.88910175 1.04092292 0.62213529 0.39658638 0.97567059 1.02078964\n",
      "  0.35224152 0.91319019 0.58922948 0.64294556 0.52053716 1.12221225\n",
      "  0.6206318  1.53677179 0.5186652  1.46275898]\n",
      " [0.36300631 0.72850702 0.44149822 0.98583034 0.94903095 0.66408314\n",
      "  0.64471716 0.76593339 0.41288413 0.23135345 0.88967174 0.50886433\n",
      "  0.50024427 0.29172432 0.60631533 0.46513952 0.18194715 0.07862231\n",
      "  0.79435129 0.57424303 0.60048865 0.96706138 0.68645419 0.69965925\n",
      "  0.94852644 0.68991709 0.16192874 0.32247161 0.79752936 0.32994309\n",
      "  0.49914811 0.74819654 0.2457492  0.23216904 0.34059941 1.022792\n",
      "  0.63061557 1.12133804 0.50812482 0.57399394]]\n",
      "Матрица, полученная через np.matmul:\n",
      " [[0.69344898 1.15714029 0.78895281 1.33639469 1.14510243 1.04031095\n",
      "  0.82391379 1.23717313 0.64962312 0.41013825 0.95864276 0.32197672\n",
      "  0.76316166 0.94126594 1.12459894 0.98508058 0.62772749 0.5341474\n",
      "  1.39790172 0.71126176 0.66319503 1.13600959 1.31181978 1.14994801\n",
      "  0.88910175 1.04092292 0.62213529 0.39658638 0.97567059 1.02078964\n",
      "  0.35224152 0.91319019 0.58922948 0.64294556 0.52053716 1.12221225\n",
      "  0.6206318  1.53677179 0.5186652  1.46275898]\n",
      " [0.36300631 0.72850702 0.44149822 0.98583034 0.94903095 0.66408314\n",
      "  0.64471716 0.76593339 0.41288413 0.23135345 0.88967174 0.50886433\n",
      "  0.50024427 0.29172432 0.60631533 0.46513952 0.18194715 0.07862231\n",
      "  0.79435129 0.57424303 0.60048865 0.96706138 0.68645419 0.69965925\n",
      "  0.94852644 0.68991709 0.16192874 0.32247161 0.79752936 0.32994309\n",
      "  0.49914811 0.74819654 0.2457492  0.23216904 0.34059941 1.022792\n",
      "  0.63061557 1.12133804 0.50812482 0.57399394]]\n",
      "Совпадают ли результаты? True\n"
     ]
    }
   ],
   "source": [
    "\n",
    "I, J, K = 2, 3, 40\n",
    "\n",
    "small_mat = np.random.rand(I, J)\n",
    "big_mat = np.random.rand(J, K)\n",
    "\n",
    "def RECORDREADER():\n",
    "    for i in range(I):\n",
    "        for j in range(J):\n",
    "            yield ((i, j), small_mat[i, j])\n",
    "    for j in range(J):\n",
    "        for k in range(K):\n",
    "            yield ((j, k), big_mat[j, k])\n",
    "\n",
    "def MAP(item1, item2) -> Iterator:\n",
    "    (i, j), value_small = item1\n",
    "    (j2, k), value_big = item2\n",
    "    if j == j2:\n",
    "        yield ((i, k), value_small * value_big)\n",
    "\n",
    "def REDUCE(key, values: Iterator[float]) -> Iterator:\n",
    "    total_sum = sum(values)\n",
    "    yield (key, total_sum)\n",
    "\n",
    "\n",
    "\n",
    "def MapReduce(RECORDREADER, MAP, REDUCE):\n",
    "    records = list(RECORDREADER())\n",
    "    records_A = records[:I * J]\n",
    "    records_B = records[I * J:]\n",
    "    \n",
    "    map_results = []\n",
    "    for a in records_A:\n",
    "        for b in records_B:\n",
    "            map_results.extend(list(MAP(a, b)))\n",
    "    \n",
    "    grouped = groupbykey(map_results)\n",
    "    \n",
    "    reduce_results = []\n",
    "    for key, values in grouped:\n",
    "        reduce_results.extend(list(REDUCE(key, values)))\n",
    "    \n",
    "    return reduce_results\n",
    "\n",
    "\n",
    "solution = MapReduce(RECORDREADER, MAP, REDUCE)\n",
    "\n",
    "reference_solution = np.matmul(small_mat, big_mat)\n",
    "\n",
    "print(\"Матрица, полученная через MapReduce:\\n\", asmatrix(solution))\n",
    "print(\"Матрица, полученная через np.matmul:\\n\", reference_solution)\n",
    "print(\"Совпадают ли результаты?\", np.allclose(reference_solution, asmatrix(solution)))\n"
   ]
  },
  {
   "cell_type": "markdown",
   "metadata": {
    "id": "mXyzQi1DaIwo"
   },
   "source": [
    "Реализуйте перемножение матриц с использованием модельного кода MapReduce Distributed, когда каждая матрица генерируется в своём RECORDREADER. "
   ]
  },
  {
   "cell_type": "code",
   "execution_count": 47,
   "metadata": {
    "id": "TDM_s78Rb5eR",
    "ExecuteTime": {
     "end_time": "2025-03-01T10:20:51.442027Z",
     "start_time": "2025-03-01T10:20:51.416309Z"
    }
   },
   "outputs": [
    {
     "name": "stdout",
     "output_type": "stream",
     "text": [
      "480 key-value pairs were sent over a network.\n",
      "Матрица, полученная через MapReduce:\n",
      " [[0.29383169 0.72289452 0.74751656 0.43694946 0.65237524 0.48825533\n",
      "  0.33077978 0.33956227 0.63267419 0.44054589 0.68247104 0.51750233\n",
      "  0.16698029 0.38513024 0.9377877  0.14353625 0.25841132 0.30240276\n",
      "  0.42228553 0.3356601  0.23963143 0.43210256 0.83982005 0.55402941\n",
      "  0.18920238 0.16217367 0.59265324 0.39853879 0.60952021 0.51426189\n",
      "  0.46999697 0.54758518 0.41906908 0.36412669 0.3164998  0.53845975\n",
      "  0.60306668 0.74087874 0.62358186 0.64192154]\n",
      " [0.99686186 1.74920735 2.050573   1.4046806  1.43845383 1.2984176\n",
      "  0.83648231 1.02008025 1.5105342  1.29362802 1.85717813 1.27949802\n",
      "  0.547963   1.13459505 2.36292576 0.30201154 0.71122998 0.70972459\n",
      "  1.19960803 0.79646647 0.78864498 1.14722006 2.081121   1.3335884\n",
      "  0.49780696 0.52474224 1.62623415 0.90748916 1.42757181 1.39878602\n",
      "  1.36393983 1.33739236 1.23586295 0.94565116 0.87530109 1.31044099\n",
      "  1.42121153 1.77956857 1.63917598 1.79810712]]\n",
      "Матрица, полученная через numpy.dot:\n",
      " [[0.29383169 0.72289452 0.74751656 0.43694946 0.65237524 0.48825533\n",
      "  0.33077978 0.33956227 0.63267419 0.44054589 0.68247104 0.51750233\n",
      "  0.16698029 0.38513024 0.9377877  0.14353625 0.25841132 0.30240276\n",
      "  0.42228553 0.3356601  0.23963143 0.43210256 0.83982005 0.55402941\n",
      "  0.18920238 0.16217367 0.59265324 0.39853879 0.60952021 0.51426189\n",
      "  0.46999697 0.54758518 0.41906908 0.36412669 0.3164998  0.53845975\n",
      "  0.60306668 0.74087874 0.62358186 0.64192154]\n",
      " [0.99686186 1.74920735 2.050573   1.4046806  1.43845383 1.2984176\n",
      "  0.83648231 1.02008025 1.5105342  1.29362802 1.85717813 1.27949802\n",
      "  0.547963   1.13459505 2.36292576 0.30201154 0.71122998 0.70972459\n",
      "  1.19960803 0.79646647 0.78864498 1.14722006 2.081121   1.3335884\n",
      "  0.49780696 0.52474224 1.62623415 0.90748916 1.42757181 1.39878602\n",
      "  1.36393983 1.33739236 1.23586295 0.94565116 0.87530109 1.31044099\n",
      "  1.42121153 1.77956857 1.63917598 1.79810712]]\n",
      "Совпадает ли результат? True\n"
     ]
    }
   ],
   "source": [
    "I, J, K = 2, 3, 40\n",
    "small_mat = np.random.rand(I, J)\n",
    "big_mat   = np.random.rand(J, K)\n",
    "\n",
    "reducers = 3\n",
    "\n",
    "def RECORDREADER_A():\n",
    "    for i in range(I):\n",
    "        for j in range(J):\n",
    "            yield (('A', i, j), small_mat[i, j])\n",
    "            \n",
    "def RECORDREADER_B():\n",
    "    for j in range(J):\n",
    "        for k in range(K):\n",
    "            yield (('B', j, k), big_mat[j, k])\n",
    "\n",
    "def INPUTFORMAT():\n",
    "    return [RECORDREADER_A(), RECORDREADER_B()]\n",
    "\n",
    "def MAP(k1, v1):\n",
    "    if k1[0] == 'A':\n",
    "        _, i, j = k1\n",
    "        a_val = v1\n",
    "        for k in range(K):\n",
    "            yield ((i, k), ('A', j, a_val))\n",
    "    else:\n",
    "        _, j, k = k1\n",
    "        b_val = v1\n",
    "        for i in range(I):\n",
    "            yield ((i, k), ('B', j, b_val))\n",
    "\n",
    "def COMBINER(k2, values):\n",
    "    \n",
    "    combined = {}\n",
    "    for typ, j, val in values:\n",
    "        key = (typ, j)\n",
    "        combined[key] = combined.get(key, 0) + val\n",
    "    for (typ, j), total in combined.items():\n",
    "        yield (k2, (typ, j, total))\n",
    "\n",
    "def REDUCE(k2, values):\n",
    "    a_dict = {}\n",
    "    b_dict = {}\n",
    "    for typ, j, val in values:\n",
    "        if typ == 'A':\n",
    "            a_dict[j] = a_dict.get(j, 0) + val\n",
    "        elif typ == 'B':\n",
    "            b_dict[j] = b_dict.get(j, 0) + val\n",
    "    s = 0\n",
    "    for j in set(a_dict.keys()) & set(b_dict.keys()):\n",
    "        s += a_dict[j] * b_dict[j]\n",
    "    yield (k2, s)\n",
    "\n",
    "\n",
    "distributed_result_iter = MapReduceDistributed(\n",
    "    INPUTFORMAT=INPUTFORMAT,\n",
    "    MAP=MAP,\n",
    "    REDUCE=REDUCE,\n",
    "    PARTITIONER=PARTITIONER,\n",
    "    COMBINER=COMBINER\n",
    ")\n",
    "\n",
    "final_results = []\n",
    "for partition_id, results_generator in distributed_result_iter:\n",
    "    for (key, val) in results_generator:\n",
    "        final_results.append((key, val))\n",
    "\n",
    "C = np.zeros((I, K))\n",
    "for ((i, k), value) in final_results:\n",
    "    C[i, k] = value\n",
    "\n",
    "# Проверяем с результатом numpy.dot\n",
    "real_mult = small_mat.dot(big_mat)\n",
    "print(\"Матрица, полученная через MapReduce:\\n\", C)\n",
    "print(\"Матрица, полученная через numpy.dot:\\n\", real_mult)\n",
    "print(\"Совпадает ли результат?\", np.allclose(C, real_mult))"
   ]
  },
  {
   "cell_type": "markdown",
   "metadata": {
    "id": "ZuSA2P9Db6UM"
   },
   "source": [
    "Обобщите предыдущее решение на случай, когда каждая матрица генерируется несколькими RECORDREADER-ами, и проверьте его работоспособность. Будет ли работать решение, если RECORDREADER-ы будут генерировать случайное подмножество элементов матрицы?"
   ]
  },
  {
   "cell_type": "code",
   "execution_count": 48,
   "metadata": {
    "id": "ehN0FqRDcwU5",
    "ExecuteTime": {
     "end_time": "2025-03-01T10:20:53.202663Z",
     "start_time": "2025-03-01T10:20:53.187782Z"
    }
   },
   "outputs": [
    {
     "name": "stdout",
     "output_type": "stream",
     "text": [
      "480 key-value pairs were sent over a network.\n",
      "Матрица, полученная через MapReduce:\n",
      " [[0.93331858 0.88469165 0.2055342  0.83223904 0.67455918 1.18350876\n",
      "  0.5667464  1.04900377 1.04475848 0.1526974  0.42634728 0.37106209\n",
      "  0.31455125 0.82896878 0.77421285 1.07497107 0.78131239 0.93916045\n",
      "  0.14094894 0.92811111 0.56187345 0.8526406  0.84508886 0.47005497\n",
      "  0.25439054 0.92817568 0.24678564 1.05053042 1.16109467 0.39576966\n",
      "  0.36607763 1.10803933 0.80534546 0.75134841 0.65931211 0.85408006\n",
      "  0.59336062 0.55434972 1.12801844 0.52443505]\n",
      " [1.49152021 1.7043509  0.54123676 1.63505869 1.60631076 1.94563346\n",
      "  1.4662617  1.47256772 1.90394122 0.21120677 0.94134512 0.69651849\n",
      "  0.51243872 1.51677064 0.8110271  1.87803013 1.15467169 1.48421527\n",
      "  0.59025394 1.64947677 1.40617054 1.28292443 1.60886031 0.70538033\n",
      "  0.6243506  1.37204285 0.62332631 1.61597456 1.8812271  0.89871866\n",
      "  0.73593272 1.63244887 1.25970147 1.25658177 1.05155157 1.2428233\n",
      "  1.25666404 1.15556409 1.76869072 1.11416205]]\n",
      "Матрица, полученная через numpy.dot:\n",
      " [[0.93331858 0.88469165 0.2055342  0.83223904 0.67455918 1.18350876\n",
      "  0.5667464  1.04900377 1.04475848 0.1526974  0.42634728 0.37106209\n",
      "  0.31455125 0.82896878 0.77421285 1.07497107 0.78131239 0.93916045\n",
      "  0.14094894 0.92811111 0.56187345 0.8526406  0.84508886 0.47005497\n",
      "  0.25439054 0.92817568 0.24678564 1.05053042 1.16109467 0.39576966\n",
      "  0.36607763 1.10803933 0.80534546 0.75134841 0.65931211 0.85408006\n",
      "  0.59336062 0.55434972 1.12801844 0.52443505]\n",
      " [1.49152021 1.7043509  0.54123676 1.63505869 1.60631076 1.94563346\n",
      "  1.4662617  1.47256772 1.90394122 0.21120677 0.94134512 0.69651849\n",
      "  0.51243872 1.51677064 0.8110271  1.87803013 1.15467169 1.48421527\n",
      "  0.59025394 1.64947677 1.40617054 1.28292443 1.60886031 0.70538033\n",
      "  0.6243506  1.37204285 0.62332631 1.61597456 1.8812271  0.89871866\n",
      "  0.73593272 1.63244887 1.25970147 1.25658177 1.05155157 1.2428233\n",
      "  1.25666404 1.15556409 1.76869072 1.11416205]]\n",
      "Совпадают ли результаты? True\n"
     ]
    }
   ],
   "source": [
    "I, J, K = 2, 3, 40\n",
    "small_mat = np.random.rand(I, J)\n",
    "big_mat   = np.random.rand(J, K)\n",
    "\n",
    "reducers = 3\n",
    "\n",
    "# Для матрицы A разбиваем строки на две группы\n",
    "def RECORDREADER_A1():\n",
    "    for i in range(0, I // 2):\n",
    "        for j in range(J):\n",
    "            yield (('A', i, j), small_mat[i, j])\n",
    "\n",
    "def RECORDREADER_A2():\n",
    "    for i in range(I // 2, I):\n",
    "        for j in range(J):\n",
    "            yield (('A', i, j), small_mat[i, j])\n",
    "\n",
    "# Для матрицы B разбиваем столбцы на две группы\n",
    "def RECORDREADER_B1():\n",
    "    for j in range(J):\n",
    "        for k in range(0, K // 2):\n",
    "            yield (('B', j, k), big_mat[j, k])\n",
    "\n",
    "def RECORDREADER_B2():\n",
    "    for j in range(J):\n",
    "        for k in range(K // 2, K):\n",
    "            yield (('B', j, k), big_mat[j, k])\n",
    "\n",
    "def INPUTFORMAT():\n",
    "    return [RECORDREADER_A1(), RECORDREADER_A2(),\n",
    "            RECORDREADER_B1(), RECORDREADER_B2()]\n",
    "\n",
    "\n",
    "distributed_result_iter = MapReduceDistributed(\n",
    "    INPUTFORMAT=INPUTFORMAT,\n",
    "    MAP=MAP,\n",
    "    REDUCE=REDUCE,\n",
    "    PARTITIONER=PARTITIONER,\n",
    "    COMBINER=COMBINER\n",
    ")\n",
    "\n",
    "final_results = []\n",
    "for partition_id, results_generator in distributed_result_iter:\n",
    "    for (key, val) in results_generator:\n",
    "        final_results.append((key, val))\n",
    "\n",
    "# Собираем итоговую матрицу C по ключам (i,k)\n",
    "C = np.zeros((I, K))\n",
    "for ((i, k), value) in final_results:\n",
    "    C[i, k] = value\n",
    "\n",
    "# Вычисляем результат перемножения через numpy.dot\n",
    "real_mult = small_mat.dot(big_mat)\n",
    "print(\"Матрица, полученная через MapReduce:\\n\", C)\n",
    "print(\"Матрица, полученная через numpy.dot:\\n\", real_mult)\n",
    "print(\"Совпадают ли результаты?\", np.allclose(C, real_mult))\n",
    "\n",
    "# Решение будет работать, если объединение всех RECORDREADER-ов охватывает все элементы каждой матрицы.\n",
    "# Если отдельные RECORDREADER-ы генерируют случайное подмножество элементов, но в сумме эти подмножества\n",
    "# содержат все необходимые данные для вычисления каждого элемента результата, то перемножение будет выполнено корректно.\n",
    "# Однако, если какой-либо элемент отсутствует во всех RECORDREADER-ах, итоговое произведение будет неполным.\n"
   ]
  },
  {
   "cell_type": "code",
   "outputs": [],
   "source": [],
   "metadata": {
    "collapsed": false
   }
  }
 ],
 "metadata": {
  "colab": {
   "provenance": []
  },
  "kernelspec": {
   "display_name": "Python (gpu_env)",
   "language": "python",
   "name": "gpu_env"
  },
  "language_info": {
   "codemirror_mode": {
    "name": "ipython",
    "version": 3
   },
   "file_extension": ".py",
   "mimetype": "text/x-python",
   "name": "python",
   "nbconvert_exporter": "python",
   "pygments_lexer": "ipython3",
   "version": "3.12.4"
  }
 },
 "nbformat": 4,
 "nbformat_minor": 0
}
