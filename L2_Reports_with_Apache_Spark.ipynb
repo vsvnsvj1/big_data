{
  "nbformat": 4,
  "nbformat_minor": 0,
  "metadata": {
    "colab": {
      "provenance": []
    },
    "kernelspec": {
      "name": "python3",
      "display_name": "Python 3"
    },
    "language_info": {
      "name": "python"
    }
  },
  "cells": [
    {
      "cell_type": "code",
      "execution_count": 1,
      "metadata": {
        "id": "eS0BTOtN0DPh"
      },
      "outputs": [],
      "source": [
        "!apt-get install openjdk-8-jdk-headless -qq > /dev/null\n",
        "!wget -q http://archive.apache.org/dist/spark/spark-3.5.1/spark-3.5.1-bin-hadoop3.tgz\n",
        "!tar xf spark-3.5.1-bin-hadoop3.tgz\n",
        "!pip install -q findspark"
      ]
    },
    {
      "cell_type": "code",
      "source": [
        "import os\n",
        "import re\n",
        "\n",
        "import findspark\n",
        "from pyspark.sql import SparkSession\n",
        "from pyspark.sql.types import ArrayType, StringType\n",
        "from pyspark.sql.window import Window\n",
        "from pyspark.sql.functions import (\n",
        "    col,\n",
        "    desc,\n",
        "    explode,\n",
        "    row_number,\n",
        "    sum as _sum,\n",
        "    udf,\n",
        "    year\n",
        ")"
      ],
      "metadata": {
        "id": "SSBAKMeA0LNS"
      },
      "execution_count": 2,
      "outputs": []
    },
    {
      "cell_type": "code",
      "source": [
        "findspark.init()\n",
        "\n",
        "os.environ[\"JAVA_HOME\"] = \"/usr/lib/jvm/java-8-openjdk-amd64\"\n",
        "os.environ[\"SPARK_HOME\"] = \"/content/spark-3.5.1-bin-hadoop3\""
      ],
      "metadata": {
        "id": "aZmC99Bc0bIV"
      },
      "execution_count": 3,
      "outputs": []
    },
    {
      "cell_type": "code",
      "source": [
        "spark = SparkSession.builder\\\n",
        "        .master(\"local[*]\")\\\n",
        "        .appName(\"LR2\")\\\n",
        "        .config(\"spark.jars.packages\", \"com.databricks:spark-xml_2.12:0.14.0\")\\\n",
        "        .getOrCreate()"
      ],
      "metadata": {
        "id": "vpiypUQT0h0J"
      },
      "execution_count": 4,
      "outputs": []
    },
    {
      "cell_type": "code",
      "source": [
        "programming_languages = spark.read\\\n",
        "        .option('header', 'true')\\\n",
        "        .option('inferSchema', 'true')\\\n",
        "        .csv('/content/programming-languages.csv')"
      ],
      "metadata": {
        "id": "UhBV63GS2D2L"
      },
      "execution_count": 5,
      "outputs": []
    },
    {
      "cell_type": "code",
      "source": [
        "programming_languages.show(10, truncate=False)"
      ],
      "metadata": {
        "colab": {
          "base_uri": "https://localhost:8080/"
        },
        "id": "8x9nH-IH3CcD",
        "outputId": "264df327-87ef-4a24-8b5b-5b838f34cd54"
      },
      "execution_count": 6,
      "outputs": [
        {
          "output_type": "stream",
          "name": "stdout",
          "text": [
            "+----------+---------------------------------------------------------+\n",
            "|name      |wikipedia_url                                            |\n",
            "+----------+---------------------------------------------------------+\n",
            "|A# .NET   |https://en.wikipedia.org/wiki/A_Sharp_(.NET)             |\n",
            "|A# (Axiom)|https://en.wikipedia.org/wiki/A_Sharp_(Axiom)            |\n",
            "|A-0 System|https://en.wikipedia.org/wiki/A-0_System                 |\n",
            "|A+        |https://en.wikipedia.org/wiki/A%2B_(programming_language)|\n",
            "|A++       |https://en.wikipedia.org/wiki/A%2B%2B                    |\n",
            "|ABAP      |https://en.wikipedia.org/wiki/ABAP                       |\n",
            "|ABC       |https://en.wikipedia.org/wiki/ABC_(programming_language) |\n",
            "|ABC ALGOL |https://en.wikipedia.org/wiki/ABC_ALGOL                  |\n",
            "|ABSET     |https://en.wikipedia.org/wiki/ABSET                      |\n",
            "|ABSYS     |https://en.wikipedia.org/wiki/ABSYS                      |\n",
            "+----------+---------------------------------------------------------+\n",
            "only showing top 10 rows\n",
            "\n"
          ]
        }
      ]
    },
    {
      "cell_type": "code",
      "source": [
        "posts_data = spark.read \\\n",
        "    .format(\"xml\") \\\n",
        "    .option(\"rowTag\", \"row\") \\\n",
        "    .load(\"/content/posts_sample.xml\")"
      ],
      "metadata": {
        "id": "cHCA-eDM3KNE"
      },
      "execution_count": 7,
      "outputs": []
    },
    {
      "cell_type": "code",
      "source": [
        "posts_data.show(10)"
      ],
      "metadata": {
        "colab": {
          "base_uri": "https://localhost:8080/"
        },
        "id": "uODDcXv635iz",
        "outputId": "ce62205c-c6de-4e4c-dac0-45d70934b8cb"
      },
      "execution_count": 8,
      "outputs": [
        {
          "output_type": "stream",
          "name": "stdout",
          "text": [
            "+-----------------+------------+--------------------+-----------+-------------+--------------------+--------------------+--------------+-------+--------------------+--------------------+----------------------+-----------------+-----------------+------------+---------+-----------+------+--------------------+--------------------+----------+\n",
            "|_AcceptedAnswerId|_AnswerCount|               _Body|_ClosedDate|_CommentCount| _CommunityOwnedDate|       _CreationDate|_FavoriteCount|    _Id|   _LastActivityDate|       _LastEditDate|_LastEditorDisplayName|_LastEditorUserId|_OwnerDisplayName|_OwnerUserId|_ParentId|_PostTypeId|_Score|               _Tags|              _Title|_ViewCount|\n",
            "+-----------------+------------+--------------------+-----------+-------------+--------------------+--------------------+--------------+-------+--------------------+--------------------+----------------------+-----------------+-----------------+------------+---------+-----------+------+--------------------+--------------------+----------+\n",
            "|                7|          13|<p>I want to use ...|       NULL|            2|2012-10-31 16:42:...|2008-07-31 21:42:...|            48|      4|2019-07-19 01:39:...|2019-07-19 01:39:...|                Rich B|          3641067|             NULL|           8|     NULL|          1|   630|<c#><floating-poi...|Convert Decimal t...|     42817|\n",
            "|               31|           6|<p>I have an abso...|       NULL|            0|                NULL|2008-07-31 22:08:...|            10|      6|2019-07-19 01:43:...|2019-07-19 01:43:...|                Rich B|          3641067|             NULL|           9|     NULL|          1|   281|<html><css><inter...|Percentage width ...|     18214|\n",
            "|             NULL|        NULL|<p>An explicit ca...|       NULL|            0|                NULL|2008-07-31 22:17:...|          NULL|      7|2017-12-16 05:06:...|2017-12-16 05:06:...|                  NULL|          4020527|             NULL|           9|        4|          2|   425|                NULL|                NULL|      NULL|\n",
            "|             1404|          63|<p>Given a <code>...|       NULL|            5|2011-08-16 19:40:...|2008-07-31 23:40:...|           436|      9|2019-06-26 15:25:...|2018-04-21 17:48:...|                Rich B|          3956566|             NULL|           1|     NULL|          1|  1742|<c#><.net><datetime>|How do I calculat...|    555183|\n",
            "|             1248|          37|<p>Given a specif...|       NULL|            3|2009-09-04 13:15:...|2008-07-31 23:55:...|           539|     11|2019-05-26 02:31:...|2017-06-04 15:51:...|           user2370523|          6479704|             NULL|           1|     NULL|          1|  1444|<c#><datetime><ti...|Calculate relativ...|    149445|\n",
            "|             NULL|        NULL|<p>Here's how I d...|       NULL|           11|2009-09-04 13:15:...|2008-07-31 23:56:...|          NULL|     12|2018-01-12 16:10:...|2018-01-12 16:10:...|            GateKiller|          1271898|             NULL|           1|       11|          2|   327|                NULL|                NULL|      NULL|\n",
            "|             NULL|          24|<p>Is there a sta...|       NULL|           10|                NULL|2008-08-01 00:42:...|           147|     13|2019-05-14 16:02:...|2018-12-24 22:47:...|                Rich B|          9752662|             NULL|           9|     NULL|          1|   590|<html><browser><t...|Determine a user'...|    176405|\n",
            "|             NULL|          10|<p>What is the di...|       NULL|            4|                NULL|2008-08-01 00:59:...|            57|     14|2018-09-19 03:49:...|2017-02-25 17:42:...|                Rich B|          6495084|   Anonymous User|          11|     NULL|          1|   399|        <.net><math>|Difference betwee...|    123231|\n",
            "|             NULL|        NULL|<p>No. (And more ...|       NULL|            6|                NULL|2010-09-20 16:18:...|          NULL|3753373|2010-09-20 16:18:...|                NULL|                  NULL|             NULL|             NULL|       10293|  3753364|          2|    13|                NULL|                NULL|      NULL|\n",
            "|             NULL|        NULL|<p>I am not aware...|       NULL|            2|                NULL|2010-09-20 18:36:...|          NULL|3754384|2010-09-20 18:43:...|2010-09-20 18:43:...|                  NULL|           140185|             NULL|      140185|  3754279|          2|     2|                NULL|                NULL|      NULL|\n",
            "+-----------------+------------+--------------------+-----------+-------------+--------------------+--------------------+--------------+-------+--------------------+--------------------+----------------------+-----------------+-----------------+------------+---------+-----------+------+--------------------+--------------------+----------+\n",
            "only showing top 10 rows\n",
            "\n"
          ]
        }
      ]
    },
    {
      "cell_type": "code",
      "source": [
        "known_languages = set([language.name.lower() for language in programming_languages.select('name').collect()])\n"
      ],
      "metadata": {
        "id": "ijEv8oQz7Re3"
      },
      "execution_count": 9,
      "outputs": []
    },
    {
      "cell_type": "code",
      "source": [
        "list(known_languages)[:20]"
      ],
      "metadata": {
        "colab": {
          "base_uri": "https://localhost:8080/"
        },
        "id": "QXH-fOme7zqZ",
        "outputId": "f5c50032-c782-4367-b308-05e7111ce689"
      },
      "execution_count": 10,
      "outputs": [
        {
          "output_type": "execute_result",
          "data": {
            "text/plain": [
              "['netlogo',\n",
              " 'ttcn',\n",
              " 'supertalk',\n",
              " 'gap',\n",
              " 'net.data',\n",
              " 'newtonscript',\n",
              " 'tom',\n",
              " 'c++ – iso/iec 14882',\n",
              " 'turing',\n",
              " 'pl/i – iso 6160',\n",
              " 'imp',\n",
              " 'x10',\n",
              " 'joss',\n",
              " 'mathematica',\n",
              " 'nsis',\n",
              " 'promal',\n",
              " 'emerald',\n",
              " 'lyapas',\n",
              " 'prograph',\n",
              " 'cel']"
            ]
          },
          "metadata": {},
          "execution_count": 10
        }
      ]
    },
    {
      "cell_type": "code",
      "source": [
        "def extract_languages(tag_string: str) -> list:\n",
        "  if not tag_string:\n",
        "    return []\n",
        "  found = re.findall(r'<([^<>]+)>', tag_string)\n",
        "  return [lang for lang in found if lang in known_languages]"
      ],
      "metadata": {
        "id": "nlZ2j9dL8kma"
      },
      "execution_count": 11,
      "outputs": []
    },
    {
      "cell_type": "code",
      "source": [
        "extract_langs_udf = udf(extract_languages, ArrayType(StringType()))\n",
        "posts_data_langs = (\n",
        "    posts_data\n",
        "    # Cтолбец-массив языков\n",
        "    .withColumn('languages', extract_langs_udf(posts_data['_Tags']))\n",
        "    # Год создания\n",
        "    .withColumn('year', year(posts_data['_CreationDate']))\n",
        "    # Разворачиваем массив в строки\n",
        "    .withColumn('lang', explode(col('languages')))\n",
        "    # Оставляем только нужные колонки\n",
        "    .select('year', 'lang',\"_ViewCount\")\n",
        "    # Фильтруем по интервалу годов\n",
        "    .filter(col(\"year\").between(2010, 2020))\n",
        ")\n"
      ],
      "metadata": {
        "id": "JIDmeuLA9is5"
      },
      "execution_count": 12,
      "outputs": []
    },
    {
      "cell_type": "code",
      "source": [
        "posts_data_langs.show(10, truncate=False)"
      ],
      "metadata": {
        "colab": {
          "base_uri": "https://localhost:8080/"
        },
        "id": "qGKpYvi6_b2t",
        "outputId": "7102bb5f-c8a1-416d-dddc-9d75ed2f1bb3"
      },
      "execution_count": 13,
      "outputs": [
        {
          "output_type": "stream",
          "name": "stdout",
          "text": [
            "+----+-----------+----------+\n",
            "|year|lang       |_ViewCount|\n",
            "+----+-----------+----------+\n",
            "|2010|java       |132       |\n",
            "|2010|php        |1258      |\n",
            "|2010|ruby       |9649      |\n",
            "|2010|c          |2384      |\n",
            "|2010|php        |1987      |\n",
            "|2010|python     |3321      |\n",
            "|2010|javascript |128       |\n",
            "|2010|applescript|477       |\n",
            "|2010|php        |1748      |\n",
            "|2010|php        |998       |\n",
            "+----+-----------+----------+\n",
            "only showing top 10 rows\n",
            "\n"
          ]
        }
      ]
    },
    {
      "cell_type": "code",
      "source": [
        "year_window = Window.partitionBy(\"year\").orderBy(desc(\"popularity\"))"
      ],
      "metadata": {
        "id": "RmsNoGFP_oZa"
      },
      "execution_count": 14,
      "outputs": []
    },
    {
      "cell_type": "code",
      "source": [
        "top_languages_per_year = (\n",
        "    posts_data_langs\n",
        "    # Группировка и суммирование просмотров\n",
        "    .groupBy(\"year\", \"lang\")\n",
        "    .agg(_sum(col(\"_ViewCount\")).alias(\"popularity\"))\n",
        "    # Присвоение ранга внутри каждого года\n",
        "    .withColumn(\"rank\", row_number().over(year_window))\n",
        "    # Оставляем только топ-10\n",
        "    .filter(col(\"rank\").between(1, 10))\n",
        ")"
      ],
      "metadata": {
        "id": "EEqlNG8fBaE8"
      },
      "execution_count": 15,
      "outputs": []
    },
    {
      "cell_type": "code",
      "source": [
        "top_languages_per_year.show(10)"
      ],
      "metadata": {
        "colab": {
          "base_uri": "https://localhost:8080/"
        },
        "id": "vQ4w-B21Bj5v",
        "outputId": "27b9935d-c2fe-4781-9e06-b1e098581ead"
      },
      "execution_count": 16,
      "outputs": [
        {
          "output_type": "stream",
          "name": "stdout",
          "text": [
            "+----+-----------+----------+----+\n",
            "|year|       lang|popularity|rank|\n",
            "+----+-----------+----------+----+\n",
            "|2010|        php|   1189629|   1|\n",
            "|2010|       java|    563211|   2|\n",
            "|2010| javascript|    316131|   3|\n",
            "|2010|objective-c|     97009|   4|\n",
            "|2010|       ruby|     76215|   5|\n",
            "|2010|          c|     66587|   6|\n",
            "|2010|     python|     60672|   7|\n",
            "|2010|     matlab|     51865|   8|\n",
            "|2010|applescript|     32305|   9|\n",
            "|2010|     delphi|     13065|  10|\n",
            "+----+-----------+----------+----+\n",
            "only showing top 10 rows\n",
            "\n"
          ]
        }
      ]
    },
    {
      "cell_type": "code",
      "source": [
        "# Сохраняем результат в Parquet\n",
        "top_languages_per_year.write \\\n",
        "    .mode(\"overwrite\") \\\n",
        "    .parquet(\"top_languages_per_year.parquet\")"
      ],
      "metadata": {
        "id": "-V3RHaM6BmWg"
      },
      "execution_count": 17,
      "outputs": []
    },
    {
      "cell_type": "code",
      "source": [
        "posts_data \\\n",
        "  .withColumn(\"year\", year(col(\"_CreationDate\"))) \\\n",
        "  .select(\"year\") \\\n",
        "  .distinct() \\\n",
        "  .orderBy(\"year\") \\\n",
        "  .show()\n"
      ],
      "metadata": {
        "colab": {
          "base_uri": "https://localhost:8080/"
        },
        "id": "DhoeRNcYEXWM",
        "outputId": "38f766a6-a33d-4e67-9d47-3b88ce978beb"
      },
      "execution_count": 18,
      "outputs": [
        {
          "output_type": "stream",
          "name": "stdout",
          "text": [
            "+----+\n",
            "|year|\n",
            "+----+\n",
            "|2008|\n",
            "|2009|\n",
            "|2010|\n",
            "|2011|\n",
            "|2012|\n",
            "|2013|\n",
            "|2014|\n",
            "|2015|\n",
            "|2016|\n",
            "|2017|\n",
            "|2018|\n",
            "|2019|\n",
            "+----+\n",
            "\n"
          ]
        }
      ]
    },
    {
      "cell_type": "code",
      "source": [
        "(\n",
        "    spark.read\n",
        "         .parquet(\"top_languages_per_year.parquet\")\n",
        "         .orderBy(\"year\", \"rank\")\n",
        "         .show(110, truncate=False)\n",
        ")"
      ],
      "metadata": {
        "colab": {
          "base_uri": "https://localhost:8080/"
        },
        "id": "U7tlrh3IB49u",
        "outputId": "65a07c27-d4d1-4317-d487-b88327696436"
      },
      "execution_count": 19,
      "outputs": [
        {
          "output_type": "stream",
          "name": "stdout",
          "text": [
            "+----+-----------+----------+----+\n",
            "|year|lang       |popularity|rank|\n",
            "+----+-----------+----------+----+\n",
            "|2010|php        |1189629   |1   |\n",
            "|2010|java       |563211    |2   |\n",
            "|2010|javascript |316131    |3   |\n",
            "|2010|objective-c|97009     |4   |\n",
            "|2010|ruby       |76215     |5   |\n",
            "|2010|c          |66587     |6   |\n",
            "|2010|python     |60672     |7   |\n",
            "|2010|matlab     |51865     |8   |\n",
            "|2010|applescript|32305     |9   |\n",
            "|2010|delphi     |13065     |10  |\n",
            "|2011|javascript |809078    |1   |\n",
            "|2011|java       |389834    |2   |\n",
            "|2011|php        |246770    |3   |\n",
            "|2011|c          |238277    |4   |\n",
            "|2011|objective-c|218934    |5   |\n",
            "|2011|python     |203180    |6   |\n",
            "|2011|bash       |60805     |7   |\n",
            "|2011|ruby       |39223     |8   |\n",
            "|2011|perl       |28502     |9   |\n",
            "|2011|matlab     |18816     |10  |\n",
            "|2012|java       |661770    |1   |\n",
            "|2012|javascript |572750    |2   |\n",
            "|2012|php        |459506    |3   |\n",
            "|2012|python     |275337    |4   |\n",
            "|2012|ruby       |104610    |5   |\n",
            "|2012|objective-c|94438     |6   |\n",
            "|2012|c          |69276     |7   |\n",
            "|2012|r          |43917     |8   |\n",
            "|2012|xpath      |32981     |9   |\n",
            "|2012|scala      |24592     |10  |\n",
            "|2013|java       |1036852   |1   |\n",
            "|2013|javascript |609571    |2   |\n",
            "|2013|php        |471986    |3   |\n",
            "|2013|objective-c|401254    |4   |\n",
            "|2013|python     |163898    |5   |\n",
            "|2013|powershell |154758    |6   |\n",
            "|2013|bash       |73169     |7   |\n",
            "|2013|chef       |62421     |8   |\n",
            "|2013|ruby       |57407     |9   |\n",
            "|2013|io         |44228     |10  |\n",
            "|2014|javascript |505893    |1   |\n",
            "|2014|java       |434130    |2   |\n",
            "|2014|python     |241959    |3   |\n",
            "|2014|php        |238579    |4   |\n",
            "|2014|c          |87281     |5   |\n",
            "|2014|objective-c|57110     |6   |\n",
            "|2014|r          |50113     |7   |\n",
            "|2014|scala      |40786     |8   |\n",
            "|2014|delphi     |23684     |9   |\n",
            "|2014|ruby       |21631     |10  |\n",
            "|2015|javascript |342097    |1   |\n",
            "|2015|python     |280129    |2   |\n",
            "|2015|java       |270303    |3   |\n",
            "|2015|php        |155899    |4   |\n",
            "|2015|r          |60437     |5   |\n",
            "|2015|abap       |30613     |6   |\n",
            "|2015|scala      |29803     |7   |\n",
            "|2015|bash       |25543     |8   |\n",
            "|2015|c          |20084     |9   |\n",
            "|2015|go         |11625     |10  |\n",
            "|2016|javascript |233802    |1   |\n",
            "|2016|python     |219510    |2   |\n",
            "|2016|java       |169513    |3   |\n",
            "|2016|php        |105849    |4   |\n",
            "|2016|r          |49717     |5   |\n",
            "|2016|powershell |36175     |6   |\n",
            "|2016|typescript |33343     |7   |\n",
            "|2016|c          |17568     |8   |\n",
            "|2016|go         |13062     |9   |\n",
            "|2016|ruby       |12909     |10  |\n",
            "|2017|java       |149826    |1   |\n",
            "|2017|javascript |146638    |2   |\n",
            "|2017|python     |128190    |3   |\n",
            "|2017|php        |61882     |4   |\n",
            "|2017|typescript |29031     |5   |\n",
            "|2017|kotlin     |25082     |6   |\n",
            "|2017|r          |24690     |7   |\n",
            "|2017|scala      |8856      |8   |\n",
            "|2017|c          |6180      |9   |\n",
            "|2017|objective-c|5795      |10  |\n",
            "|2018|python     |99996     |1   |\n",
            "|2018|javascript |64133     |2   |\n",
            "|2018|java       |40309     |3   |\n",
            "|2018|php        |34978     |4   |\n",
            "|2018|typescript |33139     |5   |\n",
            "|2018|kotlin     |13225     |6   |\n",
            "|2018|r          |11420     |7   |\n",
            "|2018|powershell |7300      |8   |\n",
            "|2018|dart       |6445      |9   |\n",
            "|2018|scala      |4531      |10  |\n",
            "|2019|python     |18857     |1   |\n",
            "|2019|javascript |13434     |2   |\n",
            "|2019|java       |5942      |3   |\n",
            "|2019|php        |3753      |4   |\n",
            "|2019|dart       |2205      |5   |\n",
            "|2019|typescript |1577      |6   |\n",
            "|2019|r          |1520      |7   |\n",
            "|2019|delphi     |1173      |8   |\n",
            "|2019|c          |1111      |9   |\n",
            "|2019|bash       |722       |10  |\n",
            "+----+-----------+----------+----+\n",
            "\n"
          ]
        }
      ]
    },
    {
      "cell_type": "code",
      "source": [],
      "metadata": {
        "id": "8TEoL-c5B9yk"
      },
      "execution_count": 19,
      "outputs": []
    }
  ]
}