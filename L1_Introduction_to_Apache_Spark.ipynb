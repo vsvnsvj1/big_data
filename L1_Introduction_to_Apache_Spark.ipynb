{
  "nbformat": 4,
  "nbformat_minor": 0,
  "metadata": {
    "colab": {
      "provenance": []
    },
    "kernelspec": {
      "name": "python3",
      "display_name": "Python 3"
    },
    "language_info": {
      "name": "python"
    }
  },
  "cells": [
    {
      "cell_type": "code",
      "execution_count": 55,
      "metadata": {
        "id": "yQlZFPChzKD6"
      },
      "outputs": [],
      "source": [
        "!apt-get install openjdk-8-jdk-headless -qq > /dev/null\n",
        "!wget -q http://archive.apache.org/dist/spark/spark-3.5.1/spark-3.5.1-bin-hadoop3.tgz\n",
        "!tar xf spark-3.5.1-bin-hadoop3.tgz\n",
        "!pip install -q findspark"
      ]
    },
    {
      "cell_type": "code",
      "source": [
        "import os\n",
        "os.environ[\"JAVA_HOME\"] = \"/usr/lib/jvm/java-8-openjdk-amd64\"\n",
        "os.environ[\"SPARK_HOME\"] = \"/content/spark-3.5.1-bin-hadoop3\""
      ],
      "metadata": {
        "id": "eJifVWaDzQcI"
      },
      "execution_count": 56,
      "outputs": []
    },
    {
      "cell_type": "code",
      "source": [
        "import findspark\n",
        "findspark.init()"
      ],
      "metadata": {
        "id": "XmJpp_vZzU_4"
      },
      "execution_count": 57,
      "outputs": []
    },
    {
      "cell_type": "code",
      "source": [
        "from pyspark.sql import SparkSession\n",
        "from pyspark import SparkContext, SparkConf\n",
        "from typing import NamedTuple\n",
        "from datetime import datetime\n",
        "import numpy as np\n",
        "from pyspark.sql.functions import udf, col, radians, sin, cos, sqrt, asin, sum as _sum\n",
        "from pyspark.sql import functions as func\n",
        "from pyspark.sql.types import DoubleType\n",
        "from pyspark.sql.functions import col, radians, sin, cos, sqrt, asin\n"
      ],
      "metadata": {
        "id": "n86gNUN0zaML"
      },
      "execution_count": 58,
      "outputs": []
    },
    {
      "cell_type": "code",
      "source": [
        "spark = SparkSession.builder\\\n",
        "        .master(\"local[*]\")\\\n",
        "        .appName(\"LR1\")\\\n",
        "        .getOrCreate()"
      ],
      "metadata": {
        "id": "8DyUtu-azd9R"
      },
      "execution_count": 59,
      "outputs": []
    },
    {
      "cell_type": "code",
      "source": [
        "trips_data = spark.read\\\n",
        ".option(\"header\", True)\\\n",
        ".option(\"inferSchema\", True)\\\n",
        ".option(\"timestampFormat\", 'M/d/y H:m')\\\n",
        ".csv(\"trips.csv\")\n",
        "\n",
        "trips_data.printSchema()"
      ],
      "metadata": {
        "colab": {
          "base_uri": "https://localhost:8080/"
        },
        "id": "i77lFlZjz8_h",
        "outputId": "975e5b87-668a-403b-8eba-5613c0552b4b"
      },
      "execution_count": 60,
      "outputs": [
        {
          "output_type": "stream",
          "name": "stdout",
          "text": [
            "root\n",
            " |-- id: integer (nullable = true)\n",
            " |-- duration: integer (nullable = true)\n",
            " |-- start_date: timestamp (nullable = true)\n",
            " |-- start_station_name: string (nullable = true)\n",
            " |-- start_station_id: integer (nullable = true)\n",
            " |-- end_date: timestamp (nullable = true)\n",
            " |-- end_station_name: string (nullable = true)\n",
            " |-- end_station_id: integer (nullable = true)\n",
            " |-- bike_id: integer (nullable = true)\n",
            " |-- subscription_type: string (nullable = true)\n",
            " |-- zip_code: string (nullable = true)\n",
            "\n"
          ]
        }
      ]
    },
    {
      "cell_type": "code",
      "source": [
        "stations_data = spark.read\\\n",
        ".option(\"header\", True)\\\n",
        ".option(\"inferSchema\", True)\\\n",
        ".option(\"timestampFormat\", 'M/d/y H:m')\\\n",
        ".csv(\"stations.csv\")\n",
        "\n",
        "stations_data.printSchema()"
      ],
      "metadata": {
        "colab": {
          "base_uri": "https://localhost:8080/"
        },
        "id": "AIcjnPpy0umV",
        "outputId": "fe130c2d-d52c-4039-b5b9-329958b73ae5"
      },
      "execution_count": 61,
      "outputs": [
        {
          "output_type": "stream",
          "name": "stdout",
          "text": [
            "root\n",
            " |-- id: integer (nullable = true)\n",
            " |-- name: string (nullable = true)\n",
            " |-- lat: double (nullable = true)\n",
            " |-- long: double (nullable = true)\n",
            " |-- dock_count: integer (nullable = true)\n",
            " |-- city: string (nullable = true)\n",
            " |-- installation_date: string (nullable = true)\n",
            "\n"
          ]
        }
      ]
    },
    {
      "cell_type": "markdown",
      "source": [
        "# 1 Найти велосипед с максимальным временем пробега"
      ],
      "metadata": {
        "id": "lCpjWwB42oJs"
      }
    },
    {
      "cell_type": "code",
      "source": [
        "bike_max_trip = (\n",
        "    trips_data\n",
        "    .groupBy(\"bike_id\")\n",
        "    .agg({\"duration\": \"sum\"})\n",
        "    .withColumnRenamed(\"sum(duration)\", \"total_duration\")\n",
        "    .sort(\"total_duration\", ascending=False)\n",
        "    .first()\n",
        ")\n",
        "\n",
        "print(f' Велосипед с id: {bike_max_trip[\"bike_id\"]} проехал максимальное время равное: {bike_max_trip[\"total_duration\"]}')"
      ],
      "metadata": {
        "colab": {
          "base_uri": "https://localhost:8080/"
        },
        "id": "BKR20aCp0ydg",
        "outputId": "a14ed41c-fc70-4d86-a3c9-11bec5068a99"
      },
      "execution_count": 62,
      "outputs": [
        {
          "output_type": "stream",
          "name": "stdout",
          "text": [
            " Велосипед с id: 535 проехал максимальное время равное: 18611693\n"
          ]
        }
      ]
    },
    {
      "cell_type": "markdown",
      "source": [
        "# 2 Найти наибольшее геодезическое расстояние между станциями."
      ],
      "metadata": {
        "id": "oSb7gH6B2tDX"
      }
    },
    {
      "cell_type": "code",
      "source": [
        "stations_rad = stations_data.withColumn(\"lat_rad\", radians(col(\"lat\"))) \\\n",
        "                          .withColumn(\"long_rad\", radians(col(\"long\")))\n",
        "\n",
        "# Получаем уникальные пары станций\n",
        "pairs = stations_rad.alias(\"a\") \\\n",
        "    .crossJoin(stations_rad.alias(\"b\")) \\\n",
        "    .filter(col(\"a.id\") < col(\"b.id\"))\n",
        "\n",
        "# Радиус Земли в километрах\n",
        "R = 6371\n",
        "\n",
        "# Вычисляем разности по широте и долготе\n",
        "pairs = pairs.withColumn(\"dlat\", col(\"b.lat_rad\") - col(\"a.lat_rad\")) \\\n",
        "             .withColumn(\"dlon\", col(\"b.long_rad\") - col(\"a.long_rad\"))\n",
        "\n",
        "# Вычисляем часть формулы гаверсинуса\n",
        "pairs = pairs.withColumn(\"a_hav\", sin(col(\"dlat\") / 2) ** 2 +\n",
        "                                    cos(col(\"a.lat_rad\")) * cos(col(\"b.lat_rad\")) * sin(col(\"dlon\") / 2) ** 2)\n",
        "\n",
        "# Вычисляем центральный угол\n",
        "pairs = pairs.withColumn(\"c\", 2 * asin(sqrt(col(\"a_hav\"))))\n",
        "\n",
        "# Вычисляем расстояние\n",
        "pairs = pairs.withColumn(\"distance\", col(\"c\") * R)\n",
        "\n",
        "# Находим максимальное расстояние\n",
        "max_distance = pairs.agg({\"distance\": \"max\"}).collect()[0][0]\n",
        "\n",
        "print(f\"Максимальное геодезическое расстояние между станциями: {max_distance: .2f} км\")"
      ],
      "metadata": {
        "colab": {
          "base_uri": "https://localhost:8080/"
        },
        "id": "7jmtkgTj2wgs",
        "outputId": "0a9e7630-e16e-4c23-da00-6d0ba9d58d59"
      },
      "execution_count": 63,
      "outputs": [
        {
          "output_type": "stream",
          "name": "stdout",
          "text": [
            "Максимальное геодезическое расстояние между станциями:  69.92 км\n"
          ]
        }
      ]
    },
    {
      "cell_type": "markdown",
      "source": [
        "# 3 Найти путь велосипеда с максимальным временем пробега через станции"
      ],
      "metadata": {
        "id": "1y2Ef2WM2w5_"
      }
    },
    {
      "cell_type": "code",
      "source": [
        "longest_bike_trip = (trips_data\n",
        "                     .select('start_station_name', 'end_station_name', 'duration')\n",
        "                     .orderBy(\n",
        "                         col('duration')\n",
        "                         .desc()\n",
        "                      )\n",
        "                     .first()\n",
        ")\n",
        "\n",
        "print(f'Велосипет с максимальным временем пробега = {longest_bike_trip[\"duration\"]} '\\\n",
        "      f'начал движение со станции {longest_bike_trip[\"start_station_name\"]} ' \\\n",
        "      f'и закончил на станции {longest_bike_trip[\"end_station_name\"]}')"
      ],
      "metadata": {
        "colab": {
          "base_uri": "https://localhost:8080/"
        },
        "id": "H9Ddocc520MS",
        "outputId": "888104b6-554d-4218-9ee2-4cd6cb48c4b4"
      },
      "execution_count": 64,
      "outputs": [
        {
          "output_type": "stream",
          "name": "stdout",
          "text": [
            "Велосипет с максимальным временем пробега = 17270400 начал движение со станции South Van Ness at Market и закончил на станции 2nd at Folsom\n"
          ]
        }
      ]
    },
    {
      "cell_type": "markdown",
      "source": [
        "# 4 Найти количество велосипедов в системе"
      ],
      "metadata": {
        "id": "CIwpLjC420zM"
      }
    },
    {
      "cell_type": "code",
      "source": [
        "print(f'Количество велосипедов в системе: {trips_data.select(\"bike_id\").distinct().count()}')"
      ],
      "metadata": {
        "colab": {
          "base_uri": "https://localhost:8080/"
        },
        "id": "JYdzAyLF24d2",
        "outputId": "b52f8d00-aedf-488a-95f0-22686d9e051d"
      },
      "execution_count": 65,
      "outputs": [
        {
          "output_type": "stream",
          "name": "stdout",
          "text": [
            "Количество велосипедов в системе: 700\n"
          ]
        }
      ]
    },
    {
      "cell_type": "markdown",
      "source": [
        "# 5 Найти пользователей потративших на поездки более 3 часов"
      ],
      "metadata": {
        "id": "8iOJstoC27Zl"
      }
    },
    {
      "cell_type": "code",
      "source": [
        "# 3 часа в секундах\n",
        "three_hours_sec = 3 * 3600\n",
        "\n",
        "# Группируем по zip_code и суммируем длительность поездок\n",
        "users_total_duration = trips_data.groupBy(\"zip_code\") \\\n",
        "                               .agg(_sum(\"duration\").alias(\"total_duration\"))\n",
        "\n",
        "users_more_than_3 = users_total_duration.filter(col(\"total_duration\") > three_hours_sec)\n",
        "\n",
        "users_more_than_3.show()"
      ],
      "metadata": {
        "colab": {
          "base_uri": "https://localhost:8080/"
        },
        "id": "iCJ6ID4228xu",
        "outputId": "79fa8c6c-18a1-4624-968d-72517df77989"
      },
      "execution_count": 66,
      "outputs": [
        {
          "output_type": "stream",
          "name": "stdout",
          "text": [
            "+--------+--------------+\n",
            "|zip_code|total_duration|\n",
            "+--------+--------------+\n",
            "|   94102|      19128021|\n",
            "|   95134|        728023|\n",
            "|   84606|         95145|\n",
            "|   80305|        180906|\n",
            "|   60070|         28919|\n",
            "|   95519|         30303|\n",
            "|   43085|         11670|\n",
            "|   91910|         50488|\n",
            "|   77339|         13713|\n",
            "|   48063|         13755|\n",
            "|   85022|         12682|\n",
            "|    1090|         20391|\n",
            "|    2136|         16010|\n",
            "|   11722|         24331|\n",
            "|   95138|        155295|\n",
            "|   94610|       3630628|\n",
            "|   94404|       3589350|\n",
            "|   80301|        152189|\n",
            "|   91326|         65885|\n",
            "|   90742|         10965|\n",
            "+--------+--------------+\n",
            "only showing top 20 rows\n",
            "\n"
          ]
        }
      ]
    }
  ]
}